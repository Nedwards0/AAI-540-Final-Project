{
 "cells": [
  {
   "cell_type": "code",
   "execution_count": 1,
   "id": "ff4e426a-d484-4d16-afcc-736a322b65ad",
   "metadata": {
    "tags": []
   },
   "outputs": [],
   "source": [
    "from PreprocessingUtil import Proccessor"
   ]
  },
  {
   "cell_type": "markdown",
   "id": "d09a211b-456c-498a-ac02-5058a221f2bd",
   "metadata": {},
   "source": [
    "# Creating Data Proccessor"
   ]
  },
  {
   "cell_type": "code",
   "execution_count": 2,
   "id": "d0e69c0e-31e8-4690-8c45-e018ac8aba89",
   "metadata": {
    "tags": []
   },
   "outputs": [],
   "source": [
    "data_set_path = \"UCF-101\""
   ]
  },
  {
   "cell_type": "code",
   "execution_count": 3,
   "id": "925a1f91-e3fd-4b14-b2c1-d8fcc65f4462",
   "metadata": {
    "tags": []
   },
   "outputs": [],
   "source": [
    "datahelper = Proccessor(data_set_path)"
   ]
  },
  {
   "cell_type": "markdown",
   "id": "5408cafc-4c15-4c47-b99a-024b8968d99e",
   "metadata": {},
   "source": [
    "# Extract classes"
   ]
  },
  {
   "cell_type": "code",
   "execution_count": 4,
   "id": "2957a243-754d-4063-90d2-0fd4e80a82bf",
   "metadata": {
    "tags": []
   },
   "outputs": [
    {
     "data": {
      "text/plain": [
       "101"
      ]
     },
     "execution_count": 4,
     "metadata": {},
     "output_type": "execute_result"
    }
   ],
   "source": [
    "classes = datahelper.getClasses()\n",
    "len(classes)"
   ]
  },
  {
   "cell_type": "code",
   "execution_count": 5,
   "id": "6a844d16-6c2e-4839-bf92-198f2228d170",
   "metadata": {
    "tags": []
   },
   "outputs": [
    {
     "data": {
      "text/plain": [
       "['ApplyEyeMakeup',\n",
       " 'ApplyLipstick',\n",
       " 'Archery',\n",
       " 'BabyCrawling',\n",
       " 'BalanceBeam',\n",
       " 'BandMarching',\n",
       " 'BaseballPitch',\n",
       " 'Basketball',\n",
       " 'BasketballDunk',\n",
       " 'BenchPress']"
      ]
     },
     "execution_count": 5,
     "metadata": {},
     "output_type": "execute_result"
    }
   ],
   "source": [
    "classes[:10] #Showing first 10 classes"
   ]
  },
  {
   "cell_type": "markdown",
   "id": "3c12b983-97fa-4036-bf54-34231da3bc46",
   "metadata": {},
   "source": [
    "### Take a random 50 classes to reduce dataset size"
   ]
  },
  {
   "cell_type": "code",
   "execution_count": 6,
   "id": "0d441ec1-0ca1-4e15-bf95-edbedfce330e",
   "metadata": {
    "tags": []
   },
   "outputs": [],
   "source": [
    "import random \n",
    "random.seed(10)\n",
    "num_classes = 50\n",
    "augmented_classes = random.sample(classes , num_classes)"
   ]
  },
  {
   "cell_type": "markdown",
   "id": "4b8760c9-0d6f-4d8d-8e65-3ebfaecf98ef",
   "metadata": {},
   "source": [
    "### Generate Images and labels for new class list"
   ]
  },
  {
   "cell_type": "code",
   "execution_count": null,
   "id": "8051d899-d25d-4696-b76d-14e2e34dc557",
   "metadata": {
    "tags": []
   },
   "outputs": [
    {
     "data": {
      "application/vnd.jupyter.widget-view+json": {
       "model_id": "f91537349dc143368d6385fca9b7a343",
       "version_major": 2,
       "version_minor": 0
      },
      "text/plain": [
       "  0%|          | 0/50 [00:00<?, ?it/s]"
      ]
     },
     "metadata": {},
     "output_type": "display_data"
    }
   ],
   "source": [
    "from tqdm.notebook import tqdm\n",
    "\n",
    "for item in tqdm(augmented_classes):#Loops througn classes\n",
    "    for video in datahelper.getVideosForClass(item):#Loops through videos for specific class\n",
    "        datahelper.convertVideoToImages(video, Export_Dir=\"Images\", split_by_video=False)\n",
    "        \n",
    "        \n",
    "    "
   ]
  }
 ],
 "metadata": {
  "kernelspec": {
   "display_name": "Python 3 (ipykernel)",
   "language": "python",
   "name": "python3"
  },
  "language_info": {
   "codemirror_mode": {
    "name": "ipython",
    "version": 3
   },
   "file_extension": ".py",
   "mimetype": "text/x-python",
   "name": "python",
   "nbconvert_exporter": "python",
   "pygments_lexer": "ipython3",
   "version": "3.11.5"
  }
 },
 "nbformat": 4,
 "nbformat_minor": 5
}

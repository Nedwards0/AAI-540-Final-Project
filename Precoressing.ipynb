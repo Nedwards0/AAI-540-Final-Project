{
 "cells": [
  {
   "cell_type": "code",
   "execution_count": 1,
   "id": "ff4e426a-d484-4d16-afcc-736a322b65ad",
   "metadata": {
    "tags": []
   },
   "outputs": [],
   "source": [
    "from PreprocessingUtil import Proccessor\n"
   ]
  },
  {
   "cell_type": "markdown",
   "id": "d09a211b-456c-498a-ac02-5058a221f2bd",
   "metadata": {},
   "source": [
    "# Creating Data Proccessor"
   ]
  },
  {
   "cell_type": "code",
   "execution_count": 2,
   "id": "d0e69c0e-31e8-4690-8c45-e018ac8aba89",
   "metadata": {
    "tags": []
   },
   "outputs": [],
   "source": [
    "data_set_path = \"UCF-101\""
   ]
  },
  {
   "cell_type": "code",
   "execution_count": 3,
   "id": "925a1f91-e3fd-4b14-b2c1-d8fcc65f4462",
   "metadata": {
    "tags": []
   },
   "outputs": [],
   "source": [
    "datahelper = Proccessor(data_set_path)"
   ]
  },
  {
   "cell_type": "markdown",
   "id": "5408cafc-4c15-4c47-b99a-024b8968d99e",
   "metadata": {},
   "source": [
    "# Extract classes"
   ]
  },
  {
   "cell_type": "code",
   "execution_count": 4,
   "id": "2957a243-754d-4063-90d2-0fd4e80a82bf",
   "metadata": {
    "tags": []
   },
   "outputs": [
    {
     "data": {
      "text/plain": [
       "101"
      ]
     },
     "execution_count": 4,
     "metadata": {},
     "output_type": "execute_result"
    }
   ],
   "source": [
    "classes = datahelper.getClasses()\n",
    "len(classes)"
   ]
  },
  {
   "cell_type": "code",
   "execution_count": 5,
   "id": "6a844d16-6c2e-4839-bf92-198f2228d170",
   "metadata": {
    "tags": []
   },
   "outputs": [
    {
     "data": {
      "text/plain": [
       "['ApplyEyeMakeup',\n",
       " 'ApplyLipstick',\n",
       " 'Archery',\n",
       " 'BabyCrawling',\n",
       " 'BalanceBeam',\n",
       " 'BandMarching',\n",
       " 'BaseballPitch',\n",
       " 'Basketball',\n",
       " 'BasketballDunk',\n",
       " 'BenchPress']"
      ]
     },
     "execution_count": 5,
     "metadata": {},
     "output_type": "execute_result"
    }
   ],
   "source": [
    "classes[:10] #Showing first 10 classes"
   ]
  },
  {
   "cell_type": "markdown",
   "id": "3c12b983-97fa-4036-bf54-34231da3bc46",
   "metadata": {},
   "source": [
    "### Take a random 40 classes to reduce dataset size"
   ]
  },
  {
   "cell_type": "code",
   "execution_count": 6,
   "id": "0d441ec1-0ca1-4e15-bf95-edbedfce330e",
   "metadata": {
    "tags": []
   },
   "outputs": [],
   "source": [
    "import random \n",
    "random.seed(41)\n",
    "num_classes = 101 #Taking all classes to not reduce size.\n",
    "augmented_classes = random.sample(classes , num_classes)"
   ]
  },
  {
   "cell_type": "markdown",
   "id": "4b8760c9-0d6f-4d8d-8e65-3ebfaecf98ef",
   "metadata": {},
   "source": [
    "### Generate Images and labels for new class list"
   ]
  },
  {
   "cell_type": "code",
   "execution_count": 7,
   "id": "8051d899-d25d-4696-b76d-14e2e34dc557",
   "metadata": {
    "tags": []
   },
   "outputs": [
    {
     "data": {
      "application/vnd.jupyter.widget-view+json": {
       "model_id": "8f40b9b692b549958be2eca2fe31dedd",
       "version_major": 2,
       "version_minor": 0
      },
      "text/plain": [
       "  0%|          | 0/50 [00:00<?, ?it/s]"
      ]
     },
     "metadata": {},
     "output_type": "display_data"
    },
    {
     "ename": "KeyboardInterrupt",
     "evalue": "",
     "output_type": "error",
     "traceback": [
      "\u001b[1;31m---------------------------------------------------------------------------\u001b[0m",
      "\u001b[1;31mKeyboardInterrupt\u001b[0m                         Traceback (most recent call last)",
      "Cell \u001b[1;32mIn[7], line 5\u001b[0m\n\u001b[0;32m      3\u001b[0m \u001b[38;5;28;01mfor\u001b[39;00m item \u001b[38;5;129;01min\u001b[39;00m tqdm(augmented_classes):\u001b[38;5;66;03m#Loops througn classes\u001b[39;00m\n\u001b[0;32m      4\u001b[0m     \u001b[38;5;28;01mfor\u001b[39;00m video \u001b[38;5;129;01min\u001b[39;00m datahelper\u001b[38;5;241m.\u001b[39mgetVideosForClass(item):\u001b[38;5;66;03m#Loops through videos for specific class\u001b[39;00m\n\u001b[1;32m----> 5\u001b[0m         datahelper\u001b[38;5;241m.\u001b[39mconvertVideoToImages(video, Export_Dir\u001b[38;5;241m=\u001b[39m\u001b[38;5;124m\"\u001b[39m\u001b[38;5;124mImages\u001b[39m\u001b[38;5;124m\"\u001b[39m, split_by_video\u001b[38;5;241m=\u001b[39m\u001b[38;5;28;01mFalse\u001b[39;00m, freq \u001b[38;5;241m=\u001b[39m \u001b[38;5;241m15\u001b[39m)\n",
      "File \u001b[1;32m~\\Documents\\GitHub\\AAI-540-Final-Project\\PreprocessingUtil.py:69\u001b[0m, in \u001b[0;36mProccessor.convertVideoToImages\u001b[1;34m(self, datafile, Generate_Label_Info_As_Json, Export_Dir, split_by_video, freq, transform, transform_amount, generate_lst)\u001b[0m\n\u001b[0;32m     67\u001b[0m                 json\u001b[38;5;241m.\u001b[39mdump(json_to_write, outfile, ensure_ascii\u001b[38;5;241m=\u001b[39m\u001b[38;5;28;01mFalse\u001b[39;00m, indent\u001b[38;5;241m=\u001b[39m\u001b[38;5;241m4\u001b[39m)\n\u001b[0;32m     68\u001b[0m         count\u001b[38;5;241m+\u001b[39m\u001b[38;5;241m=\u001b[39m\u001b[38;5;241m1\u001b[39m\n\u001b[1;32m---> 69\u001b[0m     success,image \u001b[38;5;241m=\u001b[39m vidcap\u001b[38;5;241m.\u001b[39mread()\n\u001b[0;32m     70\u001b[0m \u001b[38;5;66;03m#print(\"Finished Video\" + datafile.video + \" Frames : \" + str(frames) + \" Images : \" + str(count) )\u001b[39;00m\n\u001b[0;32m     71\u001b[0m \u001b[38;5;28;01mreturn\u001b[39;00m \u001b[38;5;241m1\u001b[39m\n",
      "\u001b[1;31mKeyboardInterrupt\u001b[0m: "
     ]
    }
   ],
   "source": [
    "from tqdm.notebook import tqdm\n",
    "\n",
    "for item in tqdm(augmented_classes):#Loops througn classes\n",
    "    for video in datahelper.getVideosForClass(item):#Loops through videos for specific class\n",
    "        datahelper.convertVideoToImages(video, Export_Dir=\"Images\", split_by_video=False, freq = 15)\n",
    "        \n",
    "        \n",
    "    "
   ]
  },
  {
   "cell_type": "code",
   "execution_count": null,
   "id": "a461f4c9-f9ed-4011-8a5a-49d9d8ac4db3",
   "metadata": {},
   "outputs": [],
   "source": []
  },
  {
   "cell_type": "code",
   "execution_count": null,
   "id": "d7b98f3a-e140-4e89-b537-8ce074230359",
   "metadata": {},
   "outputs": [],
   "source": []
  }
 ],
 "metadata": {
  "kernelspec": {
   "display_name": "Python 3 (ipykernel)",
   "language": "python",
   "name": "python3"
  },
  "language_info": {
   "codemirror_mode": {
    "name": "ipython",
    "version": 3
   },
   "file_extension": ".py",
   "mimetype": "text/x-python",
   "name": "python",
   "nbconvert_exporter": "python",
   "pygments_lexer": "ipython3",
   "version": "3.11.5"
  }
 },
 "nbformat": 4,
 "nbformat_minor": 5
}

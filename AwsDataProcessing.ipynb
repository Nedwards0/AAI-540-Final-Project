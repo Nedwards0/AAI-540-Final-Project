{
 "cells": [
  {
   "cell_type": "code",
   "execution_count": 3,
   "id": "8c4dfcb6-7112-444f-955c-f5873b04151e",
   "metadata": {
    "tags": []
   },
   "outputs": [
    {
     "name": "stdout",
     "output_type": "stream",
     "text": [
      "sagemaker.config INFO - Not applying SDK defaults from location: /etc/xdg/sagemaker/config.yaml\n",
      "sagemaker.config INFO - Not applying SDK defaults from location: /root/.config/sagemaker/config.yaml\n"
     ]
    }
   ],
   "source": [
    "from datetime import datetime, timedelta, timezone\n",
    "import json\n",
    "import os\n",
    "import re\n",
    "import boto3\n",
    "from time import sleep\n",
    "from threading import Thread\n",
    "\n",
    "import pandas as pd\n",
    "\n",
    "from sagemaker import get_execution_role, session, Session, image_uris\n",
    "from sagemaker.s3 import S3Downloader, S3Uploader\n",
    "from sagemaker.processing import ProcessingJob\n",
    "from sagemaker.serializers import CSVSerializer\n",
    "\n",
    "from sagemaker.model import Model\n",
    "from sagemaker.model_monitor import DataCaptureConfig\n",
    "\n",
    "session = Session()"
   ]
  },
  {
   "cell_type": "code",
   "execution_count": 4,
   "id": "6c4ddce9-0e4c-4647-8cce-903efc967773",
   "metadata": {
    "tags": []
   },
   "outputs": [
    {
     "name": "stdout",
     "output_type": "stream",
     "text": [
      "RoleArn: arn:aws:iam::364723530364:role/LabRole\n",
      "Region: us-east-1\n"
     ]
    }
   ],
   "source": [
    "role = get_execution_role()\n",
    "print(\"RoleArn:\", role)\n",
    "\n",
    "region = session.boto_region_name\n",
    "print(\"Region:\", region)"
   ]
  },
  {
   "cell_type": "code",
   "execution_count": 5,
   "id": "51a75fc5-0d2e-4ecb-947d-589c534563f1",
   "metadata": {
    "tags": []
   },
   "outputs": [
    {
     "name": "stdout",
     "output_type": "stream",
     "text": [
      "sagemaker-us-east-1-364723530364\n"
     ]
    }
   ],
   "source": [
    "bucket = session.default_bucket()\n",
    "print(bucket)"
   ]
  },
  {
   "cell_type": "code",
   "execution_count": 6,
   "id": "8e76fc85-8170-4d26-90f7-f798d23732f5",
   "metadata": {},
   "outputs": [],
   "source": [
    "import pandas as pd"
   ]
  },
  {
   "cell_type": "code",
   "execution_count": 7,
   "id": "ff684718-6454-4f03-9bdd-c635121b058a",
   "metadata": {
    "tags": []
   },
   "outputs": [
    {
     "name": "stdout",
     "output_type": "stream",
     "text": [
      "audi.csv  cclass.csv  ford.csv\t  merc.csv   toyota.csv    vw.csv\n",
      "bmw.csv   focus.csv   hyundi.csv  skoda.csv  vauxhall.csv\n"
     ]
    }
   ],
   "source": [
    "!ls \"Car Data\""
   ]
  },
  {
   "cell_type": "code",
   "execution_count": 8,
   "id": "79e0931e-6d09-4f07-805a-9b8b18c600ef",
   "metadata": {
    "tags": []
   },
   "outputs": [],
   "source": [
    "audi = pd.read_csv('Car Data/audi.csv')\n",
    "cclass = pd.read_csv('Car Data/cclass.csv')\n",
    "ford = pd.read_csv('Car Data/ford.csv')\n",
    "merc = pd.read_csv('Car Data/merc.csv')\n",
    "toyota = pd.read_csv('Car Data/toyota.csv')\n",
    "vw = pd.read_csv('Car Data/vw.csv')\n",
    "bmw = pd.read_csv('Car Data/bmw.csv')\n",
    "focus = pd.read_csv('Car Data/focus.csv')\n",
    "hyundi = pd.read_csv('Car Data/hyundi.csv')\n",
    "skoda = pd.read_csv('Car Data/skoda.csv')\n",
    "vauxhall = pd.read_csv('Car Data/vauxhall.csv')"
   ]
  },
  {
   "cell_type": "code",
   "execution_count": 9,
   "id": "be54bdf9-d190-4d40-abf5-4f0d09317677",
   "metadata": {
    "tags": []
   },
   "outputs": [],
   "source": [
    "datasets = [audi, cclass, ford, merc, toyota, vw, bmw, focus, hyundi, skoda, vauxhall]"
   ]
  },
  {
   "cell_type": "code",
   "execution_count": 10,
   "id": "09fbe65b-864d-4c41-94fb-408eb7ce6acf",
   "metadata": {
    "tags": []
   },
   "outputs": [],
   "source": [
    "makers = [\"audi\", \"cclass\", \"ford\", \"merc\", \"toyota\", \"vw\", \"bmw\", \"focus\", \"hyundi\", \"skoda\", \"vauxhall\"]"
   ]
  },
  {
   "cell_type": "code",
   "execution_count": 11,
   "id": "ec1d60de-9597-44dc-95d9-b965fda13dd2",
   "metadata": {
    "tags": []
   },
   "outputs": [],
   "source": [
    "hyundi.rename(columns = {'tax(£)':'tax'}, inplace = True)\n"
   ]
  },
  {
   "cell_type": "markdown",
   "id": "b921f4c4-e74a-4798-a7da-cfa60b391e62",
   "metadata": {},
   "source": [
    "### Checking for Nulls in any of the datasets"
   ]
  },
  {
   "cell_type": "code",
   "execution_count": 12,
   "id": "9d54e91b-0ccf-4cb1-8ec7-0694f0dbd551",
   "metadata": {
    "tags": []
   },
   "outputs": [
    {
     "name": "stdout",
     "output_type": "stream",
     "text": [
      "0\n",
      "0\n",
      "0\n",
      "0\n",
      "0\n",
      "0\n",
      "0\n",
      "0\n",
      "0\n",
      "0\n",
      "0\n"
     ]
    }
   ],
   "source": [
    "for i,data in enumerate(datasets):\n",
    "    print(data.isnull().sum().sum())\n",
    "    data[\"maker\"] = makers[i] \n",
    "#There are no null values"
   ]
  },
  {
   "cell_type": "code",
   "execution_count": 13,
   "id": "5349d30a-5033-44f8-b9a2-0f6aeaa81a9b",
   "metadata": {
    "tags": []
   },
   "outputs": [],
   "source": [
    "df_merged = pd.concat(datasets, axis=0)"
   ]
  },
  {
   "cell_type": "code",
   "execution_count": 14,
   "id": "4edb5718-b551-4dd9-a706-5ad0c9cddae0",
   "metadata": {
    "tags": []
   },
   "outputs": [
    {
     "data": {
      "text/html": [
       "<div>\n",
       "<style scoped>\n",
       "    .dataframe tbody tr th:only-of-type {\n",
       "        vertical-align: middle;\n",
       "    }\n",
       "\n",
       "    .dataframe tbody tr th {\n",
       "        vertical-align: top;\n",
       "    }\n",
       "\n",
       "    .dataframe thead th {\n",
       "        text-align: right;\n",
       "    }\n",
       "</style>\n",
       "<table border=\"1\" class=\"dataframe\">\n",
       "  <thead>\n",
       "    <tr style=\"text-align: right;\">\n",
       "      <th></th>\n",
       "      <th>model</th>\n",
       "      <th>year</th>\n",
       "      <th>price</th>\n",
       "      <th>transmission</th>\n",
       "      <th>mileage</th>\n",
       "      <th>fuelType</th>\n",
       "      <th>tax</th>\n",
       "      <th>mpg</th>\n",
       "      <th>engineSize</th>\n",
       "      <th>maker</th>\n",
       "    </tr>\n",
       "  </thead>\n",
       "  <tbody>\n",
       "    <tr>\n",
       "      <th>0</th>\n",
       "      <td>A1</td>\n",
       "      <td>2017</td>\n",
       "      <td>12500</td>\n",
       "      <td>Manual</td>\n",
       "      <td>15735</td>\n",
       "      <td>Petrol</td>\n",
       "      <td>150.0</td>\n",
       "      <td>55.4</td>\n",
       "      <td>1.4</td>\n",
       "      <td>audi</td>\n",
       "    </tr>\n",
       "    <tr>\n",
       "      <th>1</th>\n",
       "      <td>A6</td>\n",
       "      <td>2016</td>\n",
       "      <td>16500</td>\n",
       "      <td>Automatic</td>\n",
       "      <td>36203</td>\n",
       "      <td>Diesel</td>\n",
       "      <td>20.0</td>\n",
       "      <td>64.2</td>\n",
       "      <td>2.0</td>\n",
       "      <td>audi</td>\n",
       "    </tr>\n",
       "    <tr>\n",
       "      <th>2</th>\n",
       "      <td>A1</td>\n",
       "      <td>2016</td>\n",
       "      <td>11000</td>\n",
       "      <td>Manual</td>\n",
       "      <td>29946</td>\n",
       "      <td>Petrol</td>\n",
       "      <td>30.0</td>\n",
       "      <td>55.4</td>\n",
       "      <td>1.4</td>\n",
       "      <td>audi</td>\n",
       "    </tr>\n",
       "    <tr>\n",
       "      <th>3</th>\n",
       "      <td>A4</td>\n",
       "      <td>2017</td>\n",
       "      <td>16800</td>\n",
       "      <td>Automatic</td>\n",
       "      <td>25952</td>\n",
       "      <td>Diesel</td>\n",
       "      <td>145.0</td>\n",
       "      <td>67.3</td>\n",
       "      <td>2.0</td>\n",
       "      <td>audi</td>\n",
       "    </tr>\n",
       "    <tr>\n",
       "      <th>4</th>\n",
       "      <td>A3</td>\n",
       "      <td>2019</td>\n",
       "      <td>17300</td>\n",
       "      <td>Manual</td>\n",
       "      <td>1998</td>\n",
       "      <td>Petrol</td>\n",
       "      <td>145.0</td>\n",
       "      <td>49.6</td>\n",
       "      <td>1.0</td>\n",
       "      <td>audi</td>\n",
       "    </tr>\n",
       "    <tr>\n",
       "      <th>...</th>\n",
       "      <td>...</td>\n",
       "      <td>...</td>\n",
       "      <td>...</td>\n",
       "      <td>...</td>\n",
       "      <td>...</td>\n",
       "      <td>...</td>\n",
       "      <td>...</td>\n",
       "      <td>...</td>\n",
       "      <td>...</td>\n",
       "      <td>...</td>\n",
       "    </tr>\n",
       "    <tr>\n",
       "      <th>13627</th>\n",
       "      <td>Tigra</td>\n",
       "      <td>2007</td>\n",
       "      <td>2499</td>\n",
       "      <td>Manual</td>\n",
       "      <td>48640</td>\n",
       "      <td>Petrol</td>\n",
       "      <td>165.0</td>\n",
       "      <td>46.3</td>\n",
       "      <td>1.4</td>\n",
       "      <td>vauxhall</td>\n",
       "    </tr>\n",
       "    <tr>\n",
       "      <th>13628</th>\n",
       "      <td>Vectra</td>\n",
       "      <td>2007</td>\n",
       "      <td>1795</td>\n",
       "      <td>Manual</td>\n",
       "      <td>75000</td>\n",
       "      <td>Petrol</td>\n",
       "      <td>240.0</td>\n",
       "      <td>39.2</td>\n",
       "      <td>1.8</td>\n",
       "      <td>vauxhall</td>\n",
       "    </tr>\n",
       "    <tr>\n",
       "      <th>13629</th>\n",
       "      <td>Vectra</td>\n",
       "      <td>2005</td>\n",
       "      <td>1495</td>\n",
       "      <td>Manual</td>\n",
       "      <td>74000</td>\n",
       "      <td>Petrol</td>\n",
       "      <td>235.0</td>\n",
       "      <td>38.7</td>\n",
       "      <td>1.8</td>\n",
       "      <td>vauxhall</td>\n",
       "    </tr>\n",
       "    <tr>\n",
       "      <th>13630</th>\n",
       "      <td>Vectra</td>\n",
       "      <td>2008</td>\n",
       "      <td>1695</td>\n",
       "      <td>Automatic</td>\n",
       "      <td>131000</td>\n",
       "      <td>Diesel</td>\n",
       "      <td>200.0</td>\n",
       "      <td>39.8</td>\n",
       "      <td>1.9</td>\n",
       "      <td>vauxhall</td>\n",
       "    </tr>\n",
       "    <tr>\n",
       "      <th>13631</th>\n",
       "      <td>Vectra</td>\n",
       "      <td>2005</td>\n",
       "      <td>1450</td>\n",
       "      <td>Manual</td>\n",
       "      <td>147000</td>\n",
       "      <td>Petrol</td>\n",
       "      <td>330.0</td>\n",
       "      <td>27.9</td>\n",
       "      <td>3.2</td>\n",
       "      <td>vauxhall</td>\n",
       "    </tr>\n",
       "  </tbody>\n",
       "</table>\n",
       "<p>108540 rows × 10 columns</p>\n",
       "</div>"
      ],
      "text/plain": [
       "         model  year  price transmission  mileage fuelType    tax   mpg  \\\n",
       "0           A1  2017  12500       Manual    15735   Petrol  150.0  55.4   \n",
       "1           A6  2016  16500    Automatic    36203   Diesel   20.0  64.2   \n",
       "2           A1  2016  11000       Manual    29946   Petrol   30.0  55.4   \n",
       "3           A4  2017  16800    Automatic    25952   Diesel  145.0  67.3   \n",
       "4           A3  2019  17300       Manual     1998   Petrol  145.0  49.6   \n",
       "...        ...   ...    ...          ...      ...      ...    ...   ...   \n",
       "13627    Tigra  2007   2499       Manual    48640   Petrol  165.0  46.3   \n",
       "13628   Vectra  2007   1795       Manual    75000   Petrol  240.0  39.2   \n",
       "13629   Vectra  2005   1495       Manual    74000   Petrol  235.0  38.7   \n",
       "13630   Vectra  2008   1695    Automatic   131000   Diesel  200.0  39.8   \n",
       "13631   Vectra  2005   1450       Manual   147000   Petrol  330.0  27.9   \n",
       "\n",
       "       engineSize     maker  \n",
       "0             1.4      audi  \n",
       "1             2.0      audi  \n",
       "2             1.4      audi  \n",
       "3             2.0      audi  \n",
       "4             1.0      audi  \n",
       "...           ...       ...  \n",
       "13627         1.4  vauxhall  \n",
       "13628         1.8  vauxhall  \n",
       "13629         1.8  vauxhall  \n",
       "13630         1.9  vauxhall  \n",
       "13631         3.2  vauxhall  \n",
       "\n",
       "[108540 rows x 10 columns]"
      ]
     },
     "execution_count": 14,
     "metadata": {},
     "output_type": "execute_result"
    }
   ],
   "source": [
    "df_merged"
   ]
  },
  {
   "cell_type": "code",
   "execution_count": 15,
   "id": "5237742e-ee51-4a42-ab8d-1b941a031fb3",
   "metadata": {
    "tags": []
   },
   "outputs": [
    {
     "data": {
      "text/plain": [
       "model              0\n",
       "year               0\n",
       "price              0\n",
       "transmission       0\n",
       "mileage            0\n",
       "fuelType           0\n",
       "tax             9353\n",
       "mpg             9353\n",
       "engineSize         0\n",
       "maker              0\n",
       "dtype: int64"
      ]
     },
     "execution_count": 15,
     "metadata": {},
     "output_type": "execute_result"
    }
   ],
   "source": [
    "df_merged.isnull().sum()"
   ]
  },
  {
   "cell_type": "markdown",
   "id": "ce539eab-dd2d-4c15-8f67-63c4ceec5b49",
   "metadata": {},
   "source": [
    "### Handeling Missing Values"
   ]
  },
  {
   "cell_type": "code",
   "execution_count": 16,
   "id": "7614f79a-0f5c-4e6b-9491-fe37d18e69ab",
   "metadata": {
    "tags": []
   },
   "outputs": [
    {
     "name": "stderr",
     "output_type": "stream",
     "text": [
      "/tmp/ipykernel_641/1043064067.py:1: FutureWarning: A value is trying to be set on a copy of a DataFrame or Series through chained assignment using an inplace method.\n",
      "The behavior will change in pandas 3.0. This inplace method will never work because the intermediate object on which we are setting values always behaves as a copy.\n",
      "\n",
      "For example, when doing 'df[col].method(value, inplace=True)', try using 'df.method({col: value}, inplace=True)' or df[col] = df[col].method(value) instead, to perform the operation inplace on the original object.\n",
      "\n",
      "\n",
      "  df_merged['tax'].fillna(int(df_merged['tax'].mean()), inplace=True) #Filling them with mean\n",
      "/tmp/ipykernel_641/1043064067.py:2: FutureWarning: A value is trying to be set on a copy of a DataFrame or Series through chained assignment using an inplace method.\n",
      "The behavior will change in pandas 3.0. This inplace method will never work because the intermediate object on which we are setting values always behaves as a copy.\n",
      "\n",
      "For example, when doing 'df[col].method(value, inplace=True)', try using 'df.method({col: value}, inplace=True)' or df[col] = df[col].method(value) instead, to perform the operation inplace on the original object.\n",
      "\n",
      "\n",
      "  df_merged['mpg'].fillna(int(df_merged['mpg'].mean()), inplace=True) #Filling them with mean\n"
     ]
    }
   ],
   "source": [
    "df_merged['tax'].fillna(int(df_merged['tax'].mean()), inplace=True) #Filling them with mean\n",
    "df_merged['mpg'].fillna(int(df_merged['mpg'].mean()), inplace=True) #Filling them with mean"
   ]
  },
  {
   "cell_type": "code",
   "execution_count": 17,
   "id": "f4e3081e-619f-4721-b35e-b5c082f636f7",
   "metadata": {
    "tags": []
   },
   "outputs": [
    {
     "data": {
      "text/plain": [
       "model           0\n",
       "year            0\n",
       "price           0\n",
       "transmission    0\n",
       "mileage         0\n",
       "fuelType        0\n",
       "tax             0\n",
       "mpg             0\n",
       "engineSize      0\n",
       "maker           0\n",
       "dtype: int64"
      ]
     },
     "execution_count": 17,
     "metadata": {},
     "output_type": "execute_result"
    }
   ],
   "source": [
    "df_merged.isnull().sum() #Verify there is no more missing values"
   ]
  },
  {
   "cell_type": "markdown",
   "id": "235b3ba9-f550-4426-abed-5afd7c57d358",
   "metadata": {},
   "source": [
    "### One Hot Encoding"
   ]
  },
  {
   "cell_type": "code",
   "execution_count": 18,
   "id": "f94e9fa2-eb1e-4e46-a3bc-947bf07f948a",
   "metadata": {},
   "outputs": [
    {
     "data": {
      "text/html": [
       "<div>\n",
       "<style scoped>\n",
       "    .dataframe tbody tr th:only-of-type {\n",
       "        vertical-align: middle;\n",
       "    }\n",
       "\n",
       "    .dataframe tbody tr th {\n",
       "        vertical-align: top;\n",
       "    }\n",
       "\n",
       "    .dataframe thead th {\n",
       "        text-align: right;\n",
       "    }\n",
       "</style>\n",
       "<table border=\"1\" class=\"dataframe\">\n",
       "  <thead>\n",
       "    <tr style=\"text-align: right;\">\n",
       "      <th></th>\n",
       "      <th>model</th>\n",
       "      <th>year</th>\n",
       "      <th>price</th>\n",
       "      <th>transmission</th>\n",
       "      <th>mileage</th>\n",
       "      <th>fuelType</th>\n",
       "      <th>tax</th>\n",
       "      <th>mpg</th>\n",
       "      <th>engineSize</th>\n",
       "      <th>maker</th>\n",
       "    </tr>\n",
       "  </thead>\n",
       "  <tbody>\n",
       "    <tr>\n",
       "      <th>0</th>\n",
       "      <td>A1</td>\n",
       "      <td>2017</td>\n",
       "      <td>12500</td>\n",
       "      <td>Manual</td>\n",
       "      <td>15735</td>\n",
       "      <td>Petrol</td>\n",
       "      <td>150.0</td>\n",
       "      <td>55.4</td>\n",
       "      <td>1.4</td>\n",
       "      <td>audi</td>\n",
       "    </tr>\n",
       "    <tr>\n",
       "      <th>1</th>\n",
       "      <td>A6</td>\n",
       "      <td>2016</td>\n",
       "      <td>16500</td>\n",
       "      <td>Automatic</td>\n",
       "      <td>36203</td>\n",
       "      <td>Diesel</td>\n",
       "      <td>20.0</td>\n",
       "      <td>64.2</td>\n",
       "      <td>2.0</td>\n",
       "      <td>audi</td>\n",
       "    </tr>\n",
       "    <tr>\n",
       "      <th>2</th>\n",
       "      <td>A1</td>\n",
       "      <td>2016</td>\n",
       "      <td>11000</td>\n",
       "      <td>Manual</td>\n",
       "      <td>29946</td>\n",
       "      <td>Petrol</td>\n",
       "      <td>30.0</td>\n",
       "      <td>55.4</td>\n",
       "      <td>1.4</td>\n",
       "      <td>audi</td>\n",
       "    </tr>\n",
       "    <tr>\n",
       "      <th>3</th>\n",
       "      <td>A4</td>\n",
       "      <td>2017</td>\n",
       "      <td>16800</td>\n",
       "      <td>Automatic</td>\n",
       "      <td>25952</td>\n",
       "      <td>Diesel</td>\n",
       "      <td>145.0</td>\n",
       "      <td>67.3</td>\n",
       "      <td>2.0</td>\n",
       "      <td>audi</td>\n",
       "    </tr>\n",
       "    <tr>\n",
       "      <th>4</th>\n",
       "      <td>A3</td>\n",
       "      <td>2019</td>\n",
       "      <td>17300</td>\n",
       "      <td>Manual</td>\n",
       "      <td>1998</td>\n",
       "      <td>Petrol</td>\n",
       "      <td>145.0</td>\n",
       "      <td>49.6</td>\n",
       "      <td>1.0</td>\n",
       "      <td>audi</td>\n",
       "    </tr>\n",
       "    <tr>\n",
       "      <th>...</th>\n",
       "      <td>...</td>\n",
       "      <td>...</td>\n",
       "      <td>...</td>\n",
       "      <td>...</td>\n",
       "      <td>...</td>\n",
       "      <td>...</td>\n",
       "      <td>...</td>\n",
       "      <td>...</td>\n",
       "      <td>...</td>\n",
       "      <td>...</td>\n",
       "    </tr>\n",
       "    <tr>\n",
       "      <th>13627</th>\n",
       "      <td>Tigra</td>\n",
       "      <td>2007</td>\n",
       "      <td>2499</td>\n",
       "      <td>Manual</td>\n",
       "      <td>48640</td>\n",
       "      <td>Petrol</td>\n",
       "      <td>165.0</td>\n",
       "      <td>46.3</td>\n",
       "      <td>1.4</td>\n",
       "      <td>vauxhall</td>\n",
       "    </tr>\n",
       "    <tr>\n",
       "      <th>13628</th>\n",
       "      <td>Vectra</td>\n",
       "      <td>2007</td>\n",
       "      <td>1795</td>\n",
       "      <td>Manual</td>\n",
       "      <td>75000</td>\n",
       "      <td>Petrol</td>\n",
       "      <td>240.0</td>\n",
       "      <td>39.2</td>\n",
       "      <td>1.8</td>\n",
       "      <td>vauxhall</td>\n",
       "    </tr>\n",
       "    <tr>\n",
       "      <th>13629</th>\n",
       "      <td>Vectra</td>\n",
       "      <td>2005</td>\n",
       "      <td>1495</td>\n",
       "      <td>Manual</td>\n",
       "      <td>74000</td>\n",
       "      <td>Petrol</td>\n",
       "      <td>235.0</td>\n",
       "      <td>38.7</td>\n",
       "      <td>1.8</td>\n",
       "      <td>vauxhall</td>\n",
       "    </tr>\n",
       "    <tr>\n",
       "      <th>13630</th>\n",
       "      <td>Vectra</td>\n",
       "      <td>2008</td>\n",
       "      <td>1695</td>\n",
       "      <td>Automatic</td>\n",
       "      <td>131000</td>\n",
       "      <td>Diesel</td>\n",
       "      <td>200.0</td>\n",
       "      <td>39.8</td>\n",
       "      <td>1.9</td>\n",
       "      <td>vauxhall</td>\n",
       "    </tr>\n",
       "    <tr>\n",
       "      <th>13631</th>\n",
       "      <td>Vectra</td>\n",
       "      <td>2005</td>\n",
       "      <td>1450</td>\n",
       "      <td>Manual</td>\n",
       "      <td>147000</td>\n",
       "      <td>Petrol</td>\n",
       "      <td>330.0</td>\n",
       "      <td>27.9</td>\n",
       "      <td>3.2</td>\n",
       "      <td>vauxhall</td>\n",
       "    </tr>\n",
       "  </tbody>\n",
       "</table>\n",
       "<p>108540 rows × 10 columns</p>\n",
       "</div>"
      ],
      "text/plain": [
       "         model  year  price transmission  mileage fuelType    tax   mpg  \\\n",
       "0           A1  2017  12500       Manual    15735   Petrol  150.0  55.4   \n",
       "1           A6  2016  16500    Automatic    36203   Diesel   20.0  64.2   \n",
       "2           A1  2016  11000       Manual    29946   Petrol   30.0  55.4   \n",
       "3           A4  2017  16800    Automatic    25952   Diesel  145.0  67.3   \n",
       "4           A3  2019  17300       Manual     1998   Petrol  145.0  49.6   \n",
       "...        ...   ...    ...          ...      ...      ...    ...   ...   \n",
       "13627    Tigra  2007   2499       Manual    48640   Petrol  165.0  46.3   \n",
       "13628   Vectra  2007   1795       Manual    75000   Petrol  240.0  39.2   \n",
       "13629   Vectra  2005   1495       Manual    74000   Petrol  235.0  38.7   \n",
       "13630   Vectra  2008   1695    Automatic   131000   Diesel  200.0  39.8   \n",
       "13631   Vectra  2005   1450       Manual   147000   Petrol  330.0  27.9   \n",
       "\n",
       "       engineSize     maker  \n",
       "0             1.4      audi  \n",
       "1             2.0      audi  \n",
       "2             1.4      audi  \n",
       "3             2.0      audi  \n",
       "4             1.0      audi  \n",
       "...           ...       ...  \n",
       "13627         1.4  vauxhall  \n",
       "13628         1.8  vauxhall  \n",
       "13629         1.8  vauxhall  \n",
       "13630         1.9  vauxhall  \n",
       "13631         3.2  vauxhall  \n",
       "\n",
       "[108540 rows x 10 columns]"
      ]
     },
     "execution_count": 18,
     "metadata": {},
     "output_type": "execute_result"
    }
   ],
   "source": [
    "df_merged"
   ]
  },
  {
   "cell_type": "code",
   "execution_count": 19,
   "id": "a564a705-0ca9-490d-b797-96404cb21721",
   "metadata": {
    "tags": []
   },
   "outputs": [
    {
     "data": {
      "text/plain": [
       "195"
      ]
     },
     "execution_count": 19,
     "metadata": {},
     "output_type": "execute_result"
    }
   ],
   "source": [
    "df_merged[\"model\"].nunique() # This is to many categories to one hot encode \n"
   ]
  },
  {
   "cell_type": "code",
   "execution_count": 20,
   "id": "7b3f5715-0041-4e02-9f00-99d7a5ab8e1a",
   "metadata": {},
   "outputs": [],
   "source": [
    "High_Freq_models = df_merged[\"model\"].value_counts()[:30]"
   ]
  },
  {
   "cell_type": "code",
   "execution_count": 21,
   "id": "a0db567b-de6e-4f98-96bc-86fda1cb3837",
   "metadata": {},
   "outputs": [],
   "source": [
    "High_Freq_models = High_Freq_models.index"
   ]
  },
  {
   "cell_type": "code",
   "execution_count": 22,
   "id": "a2d9b0bf-433a-4295-94cb-9dcb4b72f032",
   "metadata": {},
   "outputs": [],
   "source": [
    "df_merged.loc[~df_merged[\"model\"].isin(High_Freq_models), \"model\"] = \"Other\" # Replace all not in the most Likely 30 with Other"
   ]
  },
  {
   "cell_type": "code",
   "execution_count": 23,
   "id": "9c06ac10-94ea-4b3b-9632-1f207d97c661",
   "metadata": {},
   "outputs": [],
   "source": [
    "df_encoded = pd.get_dummies(df_merged, columns=['model'])"
   ]
  },
  {
   "cell_type": "code",
   "execution_count": 24,
   "id": "228068a2-8fb5-4520-bafe-c08dca5cd58b",
   "metadata": {
    "tags": []
   },
   "outputs": [
    {
     "data": {
      "text/html": [
       "<div>\n",
       "<style scoped>\n",
       "    .dataframe tbody tr th:only-of-type {\n",
       "        vertical-align: middle;\n",
       "    }\n",
       "\n",
       "    .dataframe tbody tr th {\n",
       "        vertical-align: top;\n",
       "    }\n",
       "\n",
       "    .dataframe thead th {\n",
       "        text-align: right;\n",
       "    }\n",
       "</style>\n",
       "<table border=\"1\" class=\"dataframe\">\n",
       "  <thead>\n",
       "    <tr style=\"text-align: right;\">\n",
       "      <th></th>\n",
       "      <th>year</th>\n",
       "      <th>price</th>\n",
       "      <th>transmission</th>\n",
       "      <th>mileage</th>\n",
       "      <th>fuelType</th>\n",
       "      <th>tax</th>\n",
       "      <th>mpg</th>\n",
       "      <th>engineSize</th>\n",
       "      <th>maker</th>\n",
       "      <th>model_ 1 Series</th>\n",
       "      <th>...</th>\n",
       "      <th>model_ Insignia</th>\n",
       "      <th>model_ Kuga</th>\n",
       "      <th>model_ Mokka X</th>\n",
       "      <th>model_ Octavia</th>\n",
       "      <th>model_ Polo</th>\n",
       "      <th>model_ Q3</th>\n",
       "      <th>model_ Tiguan</th>\n",
       "      <th>model_ Tucson</th>\n",
       "      <th>model_ Yaris</th>\n",
       "      <th>model_Other</th>\n",
       "    </tr>\n",
       "  </thead>\n",
       "  <tbody>\n",
       "    <tr>\n",
       "      <th>0</th>\n",
       "      <td>2017</td>\n",
       "      <td>12500</td>\n",
       "      <td>Manual</td>\n",
       "      <td>15735</td>\n",
       "      <td>Petrol</td>\n",
       "      <td>150.0</td>\n",
       "      <td>55.4</td>\n",
       "      <td>1.4</td>\n",
       "      <td>audi</td>\n",
       "      <td>False</td>\n",
       "      <td>...</td>\n",
       "      <td>False</td>\n",
       "      <td>False</td>\n",
       "      <td>False</td>\n",
       "      <td>False</td>\n",
       "      <td>False</td>\n",
       "      <td>False</td>\n",
       "      <td>False</td>\n",
       "      <td>False</td>\n",
       "      <td>False</td>\n",
       "      <td>False</td>\n",
       "    </tr>\n",
       "    <tr>\n",
       "      <th>1</th>\n",
       "      <td>2016</td>\n",
       "      <td>16500</td>\n",
       "      <td>Automatic</td>\n",
       "      <td>36203</td>\n",
       "      <td>Diesel</td>\n",
       "      <td>20.0</td>\n",
       "      <td>64.2</td>\n",
       "      <td>2.0</td>\n",
       "      <td>audi</td>\n",
       "      <td>False</td>\n",
       "      <td>...</td>\n",
       "      <td>False</td>\n",
       "      <td>False</td>\n",
       "      <td>False</td>\n",
       "      <td>False</td>\n",
       "      <td>False</td>\n",
       "      <td>False</td>\n",
       "      <td>False</td>\n",
       "      <td>False</td>\n",
       "      <td>False</td>\n",
       "      <td>True</td>\n",
       "    </tr>\n",
       "    <tr>\n",
       "      <th>2</th>\n",
       "      <td>2016</td>\n",
       "      <td>11000</td>\n",
       "      <td>Manual</td>\n",
       "      <td>29946</td>\n",
       "      <td>Petrol</td>\n",
       "      <td>30.0</td>\n",
       "      <td>55.4</td>\n",
       "      <td>1.4</td>\n",
       "      <td>audi</td>\n",
       "      <td>False</td>\n",
       "      <td>...</td>\n",
       "      <td>False</td>\n",
       "      <td>False</td>\n",
       "      <td>False</td>\n",
       "      <td>False</td>\n",
       "      <td>False</td>\n",
       "      <td>False</td>\n",
       "      <td>False</td>\n",
       "      <td>False</td>\n",
       "      <td>False</td>\n",
       "      <td>False</td>\n",
       "    </tr>\n",
       "    <tr>\n",
       "      <th>3</th>\n",
       "      <td>2017</td>\n",
       "      <td>16800</td>\n",
       "      <td>Automatic</td>\n",
       "      <td>25952</td>\n",
       "      <td>Diesel</td>\n",
       "      <td>145.0</td>\n",
       "      <td>67.3</td>\n",
       "      <td>2.0</td>\n",
       "      <td>audi</td>\n",
       "      <td>False</td>\n",
       "      <td>...</td>\n",
       "      <td>False</td>\n",
       "      <td>False</td>\n",
       "      <td>False</td>\n",
       "      <td>False</td>\n",
       "      <td>False</td>\n",
       "      <td>False</td>\n",
       "      <td>False</td>\n",
       "      <td>False</td>\n",
       "      <td>False</td>\n",
       "      <td>False</td>\n",
       "    </tr>\n",
       "    <tr>\n",
       "      <th>4</th>\n",
       "      <td>2019</td>\n",
       "      <td>17300</td>\n",
       "      <td>Manual</td>\n",
       "      <td>1998</td>\n",
       "      <td>Petrol</td>\n",
       "      <td>145.0</td>\n",
       "      <td>49.6</td>\n",
       "      <td>1.0</td>\n",
       "      <td>audi</td>\n",
       "      <td>False</td>\n",
       "      <td>...</td>\n",
       "      <td>False</td>\n",
       "      <td>False</td>\n",
       "      <td>False</td>\n",
       "      <td>False</td>\n",
       "      <td>False</td>\n",
       "      <td>False</td>\n",
       "      <td>False</td>\n",
       "      <td>False</td>\n",
       "      <td>False</td>\n",
       "      <td>False</td>\n",
       "    </tr>\n",
       "    <tr>\n",
       "      <th>...</th>\n",
       "      <td>...</td>\n",
       "      <td>...</td>\n",
       "      <td>...</td>\n",
       "      <td>...</td>\n",
       "      <td>...</td>\n",
       "      <td>...</td>\n",
       "      <td>...</td>\n",
       "      <td>...</td>\n",
       "      <td>...</td>\n",
       "      <td>...</td>\n",
       "      <td>...</td>\n",
       "      <td>...</td>\n",
       "      <td>...</td>\n",
       "      <td>...</td>\n",
       "      <td>...</td>\n",
       "      <td>...</td>\n",
       "      <td>...</td>\n",
       "      <td>...</td>\n",
       "      <td>...</td>\n",
       "      <td>...</td>\n",
       "      <td>...</td>\n",
       "    </tr>\n",
       "    <tr>\n",
       "      <th>13627</th>\n",
       "      <td>2007</td>\n",
       "      <td>2499</td>\n",
       "      <td>Manual</td>\n",
       "      <td>48640</td>\n",
       "      <td>Petrol</td>\n",
       "      <td>165.0</td>\n",
       "      <td>46.3</td>\n",
       "      <td>1.4</td>\n",
       "      <td>vauxhall</td>\n",
       "      <td>False</td>\n",
       "      <td>...</td>\n",
       "      <td>False</td>\n",
       "      <td>False</td>\n",
       "      <td>False</td>\n",
       "      <td>False</td>\n",
       "      <td>False</td>\n",
       "      <td>False</td>\n",
       "      <td>False</td>\n",
       "      <td>False</td>\n",
       "      <td>False</td>\n",
       "      <td>True</td>\n",
       "    </tr>\n",
       "    <tr>\n",
       "      <th>13628</th>\n",
       "      <td>2007</td>\n",
       "      <td>1795</td>\n",
       "      <td>Manual</td>\n",
       "      <td>75000</td>\n",
       "      <td>Petrol</td>\n",
       "      <td>240.0</td>\n",
       "      <td>39.2</td>\n",
       "      <td>1.8</td>\n",
       "      <td>vauxhall</td>\n",
       "      <td>False</td>\n",
       "      <td>...</td>\n",
       "      <td>False</td>\n",
       "      <td>False</td>\n",
       "      <td>False</td>\n",
       "      <td>False</td>\n",
       "      <td>False</td>\n",
       "      <td>False</td>\n",
       "      <td>False</td>\n",
       "      <td>False</td>\n",
       "      <td>False</td>\n",
       "      <td>True</td>\n",
       "    </tr>\n",
       "    <tr>\n",
       "      <th>13629</th>\n",
       "      <td>2005</td>\n",
       "      <td>1495</td>\n",
       "      <td>Manual</td>\n",
       "      <td>74000</td>\n",
       "      <td>Petrol</td>\n",
       "      <td>235.0</td>\n",
       "      <td>38.7</td>\n",
       "      <td>1.8</td>\n",
       "      <td>vauxhall</td>\n",
       "      <td>False</td>\n",
       "      <td>...</td>\n",
       "      <td>False</td>\n",
       "      <td>False</td>\n",
       "      <td>False</td>\n",
       "      <td>False</td>\n",
       "      <td>False</td>\n",
       "      <td>False</td>\n",
       "      <td>False</td>\n",
       "      <td>False</td>\n",
       "      <td>False</td>\n",
       "      <td>True</td>\n",
       "    </tr>\n",
       "    <tr>\n",
       "      <th>13630</th>\n",
       "      <td>2008</td>\n",
       "      <td>1695</td>\n",
       "      <td>Automatic</td>\n",
       "      <td>131000</td>\n",
       "      <td>Diesel</td>\n",
       "      <td>200.0</td>\n",
       "      <td>39.8</td>\n",
       "      <td>1.9</td>\n",
       "      <td>vauxhall</td>\n",
       "      <td>False</td>\n",
       "      <td>...</td>\n",
       "      <td>False</td>\n",
       "      <td>False</td>\n",
       "      <td>False</td>\n",
       "      <td>False</td>\n",
       "      <td>False</td>\n",
       "      <td>False</td>\n",
       "      <td>False</td>\n",
       "      <td>False</td>\n",
       "      <td>False</td>\n",
       "      <td>True</td>\n",
       "    </tr>\n",
       "    <tr>\n",
       "      <th>13631</th>\n",
       "      <td>2005</td>\n",
       "      <td>1450</td>\n",
       "      <td>Manual</td>\n",
       "      <td>147000</td>\n",
       "      <td>Petrol</td>\n",
       "      <td>330.0</td>\n",
       "      <td>27.9</td>\n",
       "      <td>3.2</td>\n",
       "      <td>vauxhall</td>\n",
       "      <td>False</td>\n",
       "      <td>...</td>\n",
       "      <td>False</td>\n",
       "      <td>False</td>\n",
       "      <td>False</td>\n",
       "      <td>False</td>\n",
       "      <td>False</td>\n",
       "      <td>False</td>\n",
       "      <td>False</td>\n",
       "      <td>False</td>\n",
       "      <td>False</td>\n",
       "      <td>True</td>\n",
       "    </tr>\n",
       "  </tbody>\n",
       "</table>\n",
       "<p>108540 rows × 40 columns</p>\n",
       "</div>"
      ],
      "text/plain": [
       "       year  price transmission  mileage fuelType    tax   mpg  engineSize  \\\n",
       "0      2017  12500       Manual    15735   Petrol  150.0  55.4         1.4   \n",
       "1      2016  16500    Automatic    36203   Diesel   20.0  64.2         2.0   \n",
       "2      2016  11000       Manual    29946   Petrol   30.0  55.4         1.4   \n",
       "3      2017  16800    Automatic    25952   Diesel  145.0  67.3         2.0   \n",
       "4      2019  17300       Manual     1998   Petrol  145.0  49.6         1.0   \n",
       "...     ...    ...          ...      ...      ...    ...   ...         ...   \n",
       "13627  2007   2499       Manual    48640   Petrol  165.0  46.3         1.4   \n",
       "13628  2007   1795       Manual    75000   Petrol  240.0  39.2         1.8   \n",
       "13629  2005   1495       Manual    74000   Petrol  235.0  38.7         1.8   \n",
       "13630  2008   1695    Automatic   131000   Diesel  200.0  39.8         1.9   \n",
       "13631  2005   1450       Manual   147000   Petrol  330.0  27.9         3.2   \n",
       "\n",
       "          maker  model_ 1 Series  ...  model_ Insignia  model_ Kuga  \\\n",
       "0          audi            False  ...            False        False   \n",
       "1          audi            False  ...            False        False   \n",
       "2          audi            False  ...            False        False   \n",
       "3          audi            False  ...            False        False   \n",
       "4          audi            False  ...            False        False   \n",
       "...         ...              ...  ...              ...          ...   \n",
       "13627  vauxhall            False  ...            False        False   \n",
       "13628  vauxhall            False  ...            False        False   \n",
       "13629  vauxhall            False  ...            False        False   \n",
       "13630  vauxhall            False  ...            False        False   \n",
       "13631  vauxhall            False  ...            False        False   \n",
       "\n",
       "       model_ Mokka X  model_ Octavia  model_ Polo  model_ Q3  model_ Tiguan  \\\n",
       "0               False           False        False      False          False   \n",
       "1               False           False        False      False          False   \n",
       "2               False           False        False      False          False   \n",
       "3               False           False        False      False          False   \n",
       "4               False           False        False      False          False   \n",
       "...               ...             ...          ...        ...            ...   \n",
       "13627           False           False        False      False          False   \n",
       "13628           False           False        False      False          False   \n",
       "13629           False           False        False      False          False   \n",
       "13630           False           False        False      False          False   \n",
       "13631           False           False        False      False          False   \n",
       "\n",
       "       model_ Tucson  model_ Yaris  model_Other  \n",
       "0              False         False        False  \n",
       "1              False         False         True  \n",
       "2              False         False        False  \n",
       "3              False         False        False  \n",
       "4              False         False        False  \n",
       "...              ...           ...          ...  \n",
       "13627          False         False         True  \n",
       "13628          False         False         True  \n",
       "13629          False         False         True  \n",
       "13630          False         False         True  \n",
       "13631          False         False         True  \n",
       "\n",
       "[108540 rows x 40 columns]"
      ]
     },
     "execution_count": 24,
     "metadata": {},
     "output_type": "execute_result"
    }
   ],
   "source": [
    "df_encoded"
   ]
  },
  {
   "cell_type": "code",
   "execution_count": 25,
   "id": "6dc22f2e-ec6d-4e41-811f-c725d7897854",
   "metadata": {
    "tags": []
   },
   "outputs": [],
   "source": [
    "df_encoded = pd.get_dummies(df_encoded, columns=['maker']) #Replace maker with one hot encoded"
   ]
  },
  {
   "cell_type": "code",
   "execution_count": 26,
   "id": "1776d176-6ab8-4a4d-829b-e2acc69f92dd",
   "metadata": {
    "tags": []
   },
   "outputs": [],
   "source": [
    "df_encoded = pd.get_dummies(df_encoded, columns=['transmission']) #Replace transmission with one hot encoded"
   ]
  },
  {
   "cell_type": "code",
   "execution_count": 27,
   "id": "17ca2969-9620-4e40-b1d9-d03d1aa30294",
   "metadata": {
    "tags": []
   },
   "outputs": [],
   "source": [
    "df_encoded = pd.get_dummies(df_encoded, columns=['fuelType']) #Replace fueltype with one hot encoded"
   ]
  },
  {
   "cell_type": "markdown",
   "id": "14384ccc-03a1-4e71-bf5c-0ea380a17576",
   "metadata": {},
   "source": [
    "### Train Test and batch splitting"
   ]
  },
  {
   "cell_type": "code",
   "execution_count": 43,
   "id": "00c0a975-8509-497a-9600-06dad1bfe054",
   "metadata": {
    "tags": []
   },
   "outputs": [],
   "source": [
    "import numpy as np\n",
    "rand_split = np.random.rand(len(df_encoded))\n",
    "train_list = rand_split < 0.8\n",
    "val_list = (rand_split >= 0.8) & (rand_split < 0.9)\n",
    "batch_list = rand_split >= 0.9"
   ]
  },
  {
   "cell_type": "code",
   "execution_count": 44,
   "id": "936123c6-88e5-40f2-890a-8c8394d8e830",
   "metadata": {
    "tags": []
   },
   "outputs": [],
   "source": [
    "data_train = df_encoded[train_list]\n",
    "data_val = df_encoded[val_list]\n",
    "data_batch = df_encoded[batch_list].drop([\"price\"], axis=1)"
   ]
  },
  {
   "cell_type": "code",
   "execution_count": 45,
   "id": "b1da8ed3-b4ae-4010-bbdd-93745e18084d",
   "metadata": {
    "tags": []
   },
   "outputs": [],
   "source": [
    "train_file = \"train_data.csv\"\n",
    "data_train.to_csv(train_file, index=False, header=False)"
   ]
  },
  {
   "cell_type": "code",
   "execution_count": 49,
   "id": "cf7f6f42-8bf3-487a-a545-359f35b3fb2d",
   "metadata": {
    "tags": []
   },
   "outputs": [],
   "source": [
    "validation_file = \"validation_data.csv\"\n",
    "data_val.to_csv(validation_file, index=False, header=False)"
   ]
  },
  {
   "cell_type": "code",
   "execution_count": 50,
   "id": "b54db9f6-2e23-452f-b8d7-901b49fbdc02",
   "metadata": {
    "tags": []
   },
   "outputs": [],
   "source": [
    "batch_file = \"batch_data.csv\"\n",
    "data_batch.to_csv(batch_file, index=False, header=False)"
   ]
  },
  {
   "cell_type": "markdown",
   "id": "a4995623-69a4-49ab-a713-f5332d846cc6",
   "metadata": {},
   "source": [
    "### Uploading to S3"
   ]
  },
  {
   "cell_type": "code",
   "execution_count": 48,
   "id": "128f96e1-f4d7-42c9-bf43-b88cbd79bf52",
   "metadata": {
    "tags": []
   },
   "outputs": [],
   "source": [
    "import os\n",
    "import boto3\n",
    "import sagemaker\n",
    "\n",
    "role = sagemaker.get_execution_role()\n",
    "sess = sagemaker.Session()\n",
    "region = sess.boto_region_name\n",
    "\n",
    "bucket = sess.default_bucket()\n",
    "prefix = \"xgboost-final\""
   ]
  },
  {
   "cell_type": "code",
   "execution_count": 52,
   "id": "9620fc92-262b-42ef-87d1-d77994a61fed",
   "metadata": {
    "tags": []
   },
   "outputs": [
    {
     "data": {
      "text/plain": [
       "'s3://sagemaker-us-east-1-364723530364/xgboost-final/batch/batch_data.csv'"
      ]
     },
     "execution_count": 52,
     "metadata": {},
     "output_type": "execute_result"
    }
   ],
   "source": [
    "sess.upload_data(train_file, key_prefix=\"{}/train\".format(prefix))\n",
    "sess.upload_data(validation_file, key_prefix=\"{}/validation\".format(prefix))\n",
    "sess.upload_data(batch_file, key_prefix=\"{}/batch\".format(prefix))"
   ]
  }
 ],
 "metadata": {
  "availableInstances": [
   {
    "_defaultOrder": 0,
    "_isFastLaunch": true,
    "category": "General purpose",
    "gpuNum": 0,
    "hideHardwareSpecs": false,
    "memoryGiB": 4,
    "name": "ml.t3.medium",
    "vcpuNum": 2
   },
   {
    "_defaultOrder": 1,
    "_isFastLaunch": false,
    "category": "General purpose",
    "gpuNum": 0,
    "hideHardwareSpecs": false,
    "memoryGiB": 8,
    "name": "ml.t3.large",
    "vcpuNum": 2
   },
   {
    "_defaultOrder": 2,
    "_isFastLaunch": false,
    "category": "General purpose",
    "gpuNum": 0,
    "hideHardwareSpecs": false,
    "memoryGiB": 16,
    "name": "ml.t3.xlarge",
    "vcpuNum": 4
   },
   {
    "_defaultOrder": 3,
    "_isFastLaunch": false,
    "category": "General purpose",
    "gpuNum": 0,
    "hideHardwareSpecs": false,
    "memoryGiB": 32,
    "name": "ml.t3.2xlarge",
    "vcpuNum": 8
   },
   {
    "_defaultOrder": 4,
    "_isFastLaunch": true,
    "category": "General purpose",
    "gpuNum": 0,
    "hideHardwareSpecs": false,
    "memoryGiB": 8,
    "name": "ml.m5.large",
    "vcpuNum": 2
   },
   {
    "_defaultOrder": 5,
    "_isFastLaunch": false,
    "category": "General purpose",
    "gpuNum": 0,
    "hideHardwareSpecs": false,
    "memoryGiB": 16,
    "name": "ml.m5.xlarge",
    "vcpuNum": 4
   },
   {
    "_defaultOrder": 6,
    "_isFastLaunch": false,
    "category": "General purpose",
    "gpuNum": 0,
    "hideHardwareSpecs": false,
    "memoryGiB": 32,
    "name": "ml.m5.2xlarge",
    "vcpuNum": 8
   },
   {
    "_defaultOrder": 7,
    "_isFastLaunch": false,
    "category": "General purpose",
    "gpuNum": 0,
    "hideHardwareSpecs": false,
    "memoryGiB": 64,
    "name": "ml.m5.4xlarge",
    "vcpuNum": 16
   },
   {
    "_defaultOrder": 8,
    "_isFastLaunch": false,
    "category": "General purpose",
    "gpuNum": 0,
    "hideHardwareSpecs": false,
    "memoryGiB": 128,
    "name": "ml.m5.8xlarge",
    "vcpuNum": 32
   },
   {
    "_defaultOrder": 9,
    "_isFastLaunch": false,
    "category": "General purpose",
    "gpuNum": 0,
    "hideHardwareSpecs": false,
    "memoryGiB": 192,
    "name": "ml.m5.12xlarge",
    "vcpuNum": 48
   },
   {
    "_defaultOrder": 10,
    "_isFastLaunch": false,
    "category": "General purpose",
    "gpuNum": 0,
    "hideHardwareSpecs": false,
    "memoryGiB": 256,
    "name": "ml.m5.16xlarge",
    "vcpuNum": 64
   },
   {
    "_defaultOrder": 11,
    "_isFastLaunch": false,
    "category": "General purpose",
    "gpuNum": 0,
    "hideHardwareSpecs": false,
    "memoryGiB": 384,
    "name": "ml.m5.24xlarge",
    "vcpuNum": 96
   },
   {
    "_defaultOrder": 12,
    "_isFastLaunch": false,
    "category": "General purpose",
    "gpuNum": 0,
    "hideHardwareSpecs": false,
    "memoryGiB": 8,
    "name": "ml.m5d.large",
    "vcpuNum": 2
   },
   {
    "_defaultOrder": 13,
    "_isFastLaunch": false,
    "category": "General purpose",
    "gpuNum": 0,
    "hideHardwareSpecs": false,
    "memoryGiB": 16,
    "name": "ml.m5d.xlarge",
    "vcpuNum": 4
   },
   {
    "_defaultOrder": 14,
    "_isFastLaunch": false,
    "category": "General purpose",
    "gpuNum": 0,
    "hideHardwareSpecs": false,
    "memoryGiB": 32,
    "name": "ml.m5d.2xlarge",
    "vcpuNum": 8
   },
   {
    "_defaultOrder": 15,
    "_isFastLaunch": false,
    "category": "General purpose",
    "gpuNum": 0,
    "hideHardwareSpecs": false,
    "memoryGiB": 64,
    "name": "ml.m5d.4xlarge",
    "vcpuNum": 16
   },
   {
    "_defaultOrder": 16,
    "_isFastLaunch": false,
    "category": "General purpose",
    "gpuNum": 0,
    "hideHardwareSpecs": false,
    "memoryGiB": 128,
    "name": "ml.m5d.8xlarge",
    "vcpuNum": 32
   },
   {
    "_defaultOrder": 17,
    "_isFastLaunch": false,
    "category": "General purpose",
    "gpuNum": 0,
    "hideHardwareSpecs": false,
    "memoryGiB": 192,
    "name": "ml.m5d.12xlarge",
    "vcpuNum": 48
   },
   {
    "_defaultOrder": 18,
    "_isFastLaunch": false,
    "category": "General purpose",
    "gpuNum": 0,
    "hideHardwareSpecs": false,
    "memoryGiB": 256,
    "name": "ml.m5d.16xlarge",
    "vcpuNum": 64
   },
   {
    "_defaultOrder": 19,
    "_isFastLaunch": false,
    "category": "General purpose",
    "gpuNum": 0,
    "hideHardwareSpecs": false,
    "memoryGiB": 384,
    "name": "ml.m5d.24xlarge",
    "vcpuNum": 96
   },
   {
    "_defaultOrder": 20,
    "_isFastLaunch": false,
    "category": "General purpose",
    "gpuNum": 0,
    "hideHardwareSpecs": true,
    "memoryGiB": 0,
    "name": "ml.geospatial.interactive",
    "supportedImageNames": [
     "sagemaker-geospatial-v1-0"
    ],
    "vcpuNum": 0
   },
   {
    "_defaultOrder": 21,
    "_isFastLaunch": true,
    "category": "Compute optimized",
    "gpuNum": 0,
    "hideHardwareSpecs": false,
    "memoryGiB": 4,
    "name": "ml.c5.large",
    "vcpuNum": 2
   },
   {
    "_defaultOrder": 22,
    "_isFastLaunch": false,
    "category": "Compute optimized",
    "gpuNum": 0,
    "hideHardwareSpecs": false,
    "memoryGiB": 8,
    "name": "ml.c5.xlarge",
    "vcpuNum": 4
   },
   {
    "_defaultOrder": 23,
    "_isFastLaunch": false,
    "category": "Compute optimized",
    "gpuNum": 0,
    "hideHardwareSpecs": false,
    "memoryGiB": 16,
    "name": "ml.c5.2xlarge",
    "vcpuNum": 8
   },
   {
    "_defaultOrder": 24,
    "_isFastLaunch": false,
    "category": "Compute optimized",
    "gpuNum": 0,
    "hideHardwareSpecs": false,
    "memoryGiB": 32,
    "name": "ml.c5.4xlarge",
    "vcpuNum": 16
   },
   {
    "_defaultOrder": 25,
    "_isFastLaunch": false,
    "category": "Compute optimized",
    "gpuNum": 0,
    "hideHardwareSpecs": false,
    "memoryGiB": 72,
    "name": "ml.c5.9xlarge",
    "vcpuNum": 36
   },
   {
    "_defaultOrder": 26,
    "_isFastLaunch": false,
    "category": "Compute optimized",
    "gpuNum": 0,
    "hideHardwareSpecs": false,
    "memoryGiB": 96,
    "name": "ml.c5.12xlarge",
    "vcpuNum": 48
   },
   {
    "_defaultOrder": 27,
    "_isFastLaunch": false,
    "category": "Compute optimized",
    "gpuNum": 0,
    "hideHardwareSpecs": false,
    "memoryGiB": 144,
    "name": "ml.c5.18xlarge",
    "vcpuNum": 72
   },
   {
    "_defaultOrder": 28,
    "_isFastLaunch": false,
    "category": "Compute optimized",
    "gpuNum": 0,
    "hideHardwareSpecs": false,
    "memoryGiB": 192,
    "name": "ml.c5.24xlarge",
    "vcpuNum": 96
   },
   {
    "_defaultOrder": 29,
    "_isFastLaunch": true,
    "category": "Accelerated computing",
    "gpuNum": 1,
    "hideHardwareSpecs": false,
    "memoryGiB": 16,
    "name": "ml.g4dn.xlarge",
    "vcpuNum": 4
   },
   {
    "_defaultOrder": 30,
    "_isFastLaunch": false,
    "category": "Accelerated computing",
    "gpuNum": 1,
    "hideHardwareSpecs": false,
    "memoryGiB": 32,
    "name": "ml.g4dn.2xlarge",
    "vcpuNum": 8
   },
   {
    "_defaultOrder": 31,
    "_isFastLaunch": false,
    "category": "Accelerated computing",
    "gpuNum": 1,
    "hideHardwareSpecs": false,
    "memoryGiB": 64,
    "name": "ml.g4dn.4xlarge",
    "vcpuNum": 16
   },
   {
    "_defaultOrder": 32,
    "_isFastLaunch": false,
    "category": "Accelerated computing",
    "gpuNum": 1,
    "hideHardwareSpecs": false,
    "memoryGiB": 128,
    "name": "ml.g4dn.8xlarge",
    "vcpuNum": 32
   },
   {
    "_defaultOrder": 33,
    "_isFastLaunch": false,
    "category": "Accelerated computing",
    "gpuNum": 4,
    "hideHardwareSpecs": false,
    "memoryGiB": 192,
    "name": "ml.g4dn.12xlarge",
    "vcpuNum": 48
   },
   {
    "_defaultOrder": 34,
    "_isFastLaunch": false,
    "category": "Accelerated computing",
    "gpuNum": 1,
    "hideHardwareSpecs": false,
    "memoryGiB": 256,
    "name": "ml.g4dn.16xlarge",
    "vcpuNum": 64
   },
   {
    "_defaultOrder": 35,
    "_isFastLaunch": false,
    "category": "Accelerated computing",
    "gpuNum": 1,
    "hideHardwareSpecs": false,
    "memoryGiB": 61,
    "name": "ml.p3.2xlarge",
    "vcpuNum": 8
   },
   {
    "_defaultOrder": 36,
    "_isFastLaunch": false,
    "category": "Accelerated computing",
    "gpuNum": 4,
    "hideHardwareSpecs": false,
    "memoryGiB": 244,
    "name": "ml.p3.8xlarge",
    "vcpuNum": 32
   },
   {
    "_defaultOrder": 37,
    "_isFastLaunch": false,
    "category": "Accelerated computing",
    "gpuNum": 8,
    "hideHardwareSpecs": false,
    "memoryGiB": 488,
    "name": "ml.p3.16xlarge",
    "vcpuNum": 64
   },
   {
    "_defaultOrder": 38,
    "_isFastLaunch": false,
    "category": "Accelerated computing",
    "gpuNum": 8,
    "hideHardwareSpecs": false,
    "memoryGiB": 768,
    "name": "ml.p3dn.24xlarge",
    "vcpuNum": 96
   },
   {
    "_defaultOrder": 39,
    "_isFastLaunch": false,
    "category": "Memory Optimized",
    "gpuNum": 0,
    "hideHardwareSpecs": false,
    "memoryGiB": 16,
    "name": "ml.r5.large",
    "vcpuNum": 2
   },
   {
    "_defaultOrder": 40,
    "_isFastLaunch": false,
    "category": "Memory Optimized",
    "gpuNum": 0,
    "hideHardwareSpecs": false,
    "memoryGiB": 32,
    "name": "ml.r5.xlarge",
    "vcpuNum": 4
   },
   {
    "_defaultOrder": 41,
    "_isFastLaunch": false,
    "category": "Memory Optimized",
    "gpuNum": 0,
    "hideHardwareSpecs": false,
    "memoryGiB": 64,
    "name": "ml.r5.2xlarge",
    "vcpuNum": 8
   },
   {
    "_defaultOrder": 42,
    "_isFastLaunch": false,
    "category": "Memory Optimized",
    "gpuNum": 0,
    "hideHardwareSpecs": false,
    "memoryGiB": 128,
    "name": "ml.r5.4xlarge",
    "vcpuNum": 16
   },
   {
    "_defaultOrder": 43,
    "_isFastLaunch": false,
    "category": "Memory Optimized",
    "gpuNum": 0,
    "hideHardwareSpecs": false,
    "memoryGiB": 256,
    "name": "ml.r5.8xlarge",
    "vcpuNum": 32
   },
   {
    "_defaultOrder": 44,
    "_isFastLaunch": false,
    "category": "Memory Optimized",
    "gpuNum": 0,
    "hideHardwareSpecs": false,
    "memoryGiB": 384,
    "name": "ml.r5.12xlarge",
    "vcpuNum": 48
   },
   {
    "_defaultOrder": 45,
    "_isFastLaunch": false,
    "category": "Memory Optimized",
    "gpuNum": 0,
    "hideHardwareSpecs": false,
    "memoryGiB": 512,
    "name": "ml.r5.16xlarge",
    "vcpuNum": 64
   },
   {
    "_defaultOrder": 46,
    "_isFastLaunch": false,
    "category": "Memory Optimized",
    "gpuNum": 0,
    "hideHardwareSpecs": false,
    "memoryGiB": 768,
    "name": "ml.r5.24xlarge",
    "vcpuNum": 96
   },
   {
    "_defaultOrder": 47,
    "_isFastLaunch": false,
    "category": "Accelerated computing",
    "gpuNum": 1,
    "hideHardwareSpecs": false,
    "memoryGiB": 16,
    "name": "ml.g5.xlarge",
    "vcpuNum": 4
   },
   {
    "_defaultOrder": 48,
    "_isFastLaunch": false,
    "category": "Accelerated computing",
    "gpuNum": 1,
    "hideHardwareSpecs": false,
    "memoryGiB": 32,
    "name": "ml.g5.2xlarge",
    "vcpuNum": 8
   },
   {
    "_defaultOrder": 49,
    "_isFastLaunch": false,
    "category": "Accelerated computing",
    "gpuNum": 1,
    "hideHardwareSpecs": false,
    "memoryGiB": 64,
    "name": "ml.g5.4xlarge",
    "vcpuNum": 16
   },
   {
    "_defaultOrder": 50,
    "_isFastLaunch": false,
    "category": "Accelerated computing",
    "gpuNum": 1,
    "hideHardwareSpecs": false,
    "memoryGiB": 128,
    "name": "ml.g5.8xlarge",
    "vcpuNum": 32
   },
   {
    "_defaultOrder": 51,
    "_isFastLaunch": false,
    "category": "Accelerated computing",
    "gpuNum": 1,
    "hideHardwareSpecs": false,
    "memoryGiB": 256,
    "name": "ml.g5.16xlarge",
    "vcpuNum": 64
   },
   {
    "_defaultOrder": 52,
    "_isFastLaunch": false,
    "category": "Accelerated computing",
    "gpuNum": 4,
    "hideHardwareSpecs": false,
    "memoryGiB": 192,
    "name": "ml.g5.12xlarge",
    "vcpuNum": 48
   },
   {
    "_defaultOrder": 53,
    "_isFastLaunch": false,
    "category": "Accelerated computing",
    "gpuNum": 4,
    "hideHardwareSpecs": false,
    "memoryGiB": 384,
    "name": "ml.g5.24xlarge",
    "vcpuNum": 96
   },
   {
    "_defaultOrder": 54,
    "_isFastLaunch": false,
    "category": "Accelerated computing",
    "gpuNum": 8,
    "hideHardwareSpecs": false,
    "memoryGiB": 768,
    "name": "ml.g5.48xlarge",
    "vcpuNum": 192
   },
   {
    "_defaultOrder": 55,
    "_isFastLaunch": false,
    "category": "Accelerated computing",
    "gpuNum": 8,
    "hideHardwareSpecs": false,
    "memoryGiB": 1152,
    "name": "ml.p4d.24xlarge",
    "vcpuNum": 96
   },
   {
    "_defaultOrder": 56,
    "_isFastLaunch": false,
    "category": "Accelerated computing",
    "gpuNum": 8,
    "hideHardwareSpecs": false,
    "memoryGiB": 1152,
    "name": "ml.p4de.24xlarge",
    "vcpuNum": 96
   },
   {
    "_defaultOrder": 57,
    "_isFastLaunch": false,
    "category": "Accelerated computing",
    "gpuNum": 0,
    "hideHardwareSpecs": false,
    "memoryGiB": 32,
    "name": "ml.trn1.2xlarge",
    "vcpuNum": 8
   },
   {
    "_defaultOrder": 58,
    "_isFastLaunch": false,
    "category": "Accelerated computing",
    "gpuNum": 0,
    "hideHardwareSpecs": false,
    "memoryGiB": 512,
    "name": "ml.trn1.32xlarge",
    "vcpuNum": 128
   },
   {
    "_defaultOrder": 59,
    "_isFastLaunch": false,
    "category": "Accelerated computing",
    "gpuNum": 0,
    "hideHardwareSpecs": false,
    "memoryGiB": 512,
    "name": "ml.trn1n.32xlarge",
    "vcpuNum": 128
   }
  ],
  "instance_type": "ml.t3.medium",
  "kernelspec": {
   "display_name": "Python 3 (Data Science 3.0)",
   "language": "python",
   "name": "python3__SAGEMAKER_INTERNAL__arn:aws:sagemaker:us-east-1:081325390199:image/sagemaker-data-science-310-v1"
  },
  "language_info": {
   "codemirror_mode": {
    "name": "ipython",
    "version": 3
   },
   "file_extension": ".py",
   "mimetype": "text/x-python",
   "name": "python",
   "nbconvert_exporter": "python",
   "pygments_lexer": "ipython3",
   "version": "3.10.6"
  }
 },
 "nbformat": 4,
 "nbformat_minor": 5
}

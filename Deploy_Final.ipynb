{
 "cells": [
  {
   "cell_type": "code",
   "execution_count": 1,
   "id": "73cbbf7c-b859-463e-b37c-dce41c4726fd",
   "metadata": {
    "tags": []
   },
   "outputs": [
    {
     "name": "stdout",
     "output_type": "stream",
     "text": [
      "sagemaker.config INFO - Not applying SDK defaults from location: /etc/xdg/sagemaker/config.yaml\n",
      "sagemaker.config INFO - Not applying SDK defaults from location: /home/ec2-user/.config/sagemaker/config.yaml\n"
     ]
    }
   ],
   "source": [
    "from datetime import datetime, timedelta, timezone\n",
    "import json\n",
    "import os\n",
    "import re\n",
    "import boto3\n",
    "from time import sleep\n",
    "from threading import Thread\n",
    "\n",
    "import pandas as pd\n",
    "\n",
    "from sagemaker import get_execution_role, session, Session, image_uris\n",
    "from sagemaker.s3 import S3Downloader, S3Uploader\n",
    "from sagemaker.processing import ProcessingJob\n",
    "from sagemaker.serializers import CSVSerializer\n",
    "\n",
    "from sagemaker.model import Model\n",
    "from sagemaker.model_monitor import DataCaptureConfig\n",
    "\n",
    "from sagemaker.model_monitor import ModelQualityMonitor, ModelBiasMonitor\n",
    "from sagemaker.model_monitor import EndpointInput\n",
    "from sagemaker.model_monitor.dataset_format import DatasetFormat\n",
    "\n",
    "session = Session()"
   ]
  },
  {
   "cell_type": "code",
   "execution_count": 2,
   "id": "7a66a268-a40f-40ad-9662-68def7d3fbcb",
   "metadata": {
    "tags": []
   },
   "outputs": [
    {
     "name": "stdout",
     "output_type": "stream",
     "text": [
      "sagemaker-us-east-1-122442915072\n"
     ]
    }
   ],
   "source": [
    "bucket = session.default_bucket()\n",
    "print(bucket)"
   ]
  },
  {
   "cell_type": "code",
   "execution_count": 3,
   "id": "61e699a0-de6b-4198-b535-b6e5ecea636f",
   "metadata": {
    "tags": []
   },
   "outputs": [],
   "source": [
    "import os\n",
    "import boto3\n",
    "import sagemaker\n",
    "\n",
    "role = sagemaker.get_execution_role()\n",
    "sess = sagemaker.Session()\n",
    "region = sess.boto_region_name\n",
    "\n",
    "bucket = sess.default_bucket()\n",
    "prefix = \"xgboost-final\""
   ]
  },
  {
   "cell_type": "markdown",
   "id": "0a262bc0-e4a9-4c3c-b050-f7b3052dccc8",
   "metadata": {},
   "source": [
    "### Deploy Model"
   ]
  },
  {
   "cell_type": "code",
   "execution_count": 4,
   "id": "ce8590fa-43b0-46d6-bee7-6ba7c8d0c998",
   "metadata": {
    "tags": []
   },
   "outputs": [],
   "source": [
    "endpoint_name = f\"xgb-Final-project-{datetime.utcnow():%Y-%m-%d-%H%M}\"\n",
    "s3_capture_upload_path = f\"s3://{bucket}/{prefix}/capture\""
   ]
  },
  {
   "cell_type": "code",
   "execution_count": 5,
   "id": "2454f7c9-c82f-4853-8d36-3d635b66cadb",
   "metadata": {
    "tags": []
   },
   "outputs": [],
   "source": [
    "data_capture_config = DataCaptureConfig(\n",
    "    enable_capture=True, sampling_percentage=100, destination_s3_uri=s3_capture_upload_path\n",
    ")\n",
    "\n",
    "model = Model(image_uri=\"683313688378.dkr.ecr.us-east-1.amazonaws.com/sagemaker-xgboost:1.7-1\", model_data=\"s3://sagemaker-us-east-1-122442915072/xgboost-final/output/xgb-2024-06-23-01-57-14/xgb-2024-06-23-01-57-14/output/model.tar.gz\", role=role, sagemaker_session=session)\n"
   ]
  },
  {
   "cell_type": "code",
   "execution_count": 6,
   "id": "c9615cd2-cb5e-407f-b896-c624f57fd2b7",
   "metadata": {
    "tags": []
   },
   "outputs": [
    {
     "name": "stdout",
     "output_type": "stream",
     "text": [
      "-------!"
     ]
    }
   ],
   "source": [
    "model.deploy(\n",
    "    initial_instance_count=1,\n",
    "    instance_type=\"ml.m4.xlarge\",\n",
    "    endpoint_name=endpoint_name,\n",
    "    data_capture_config=data_capture_config,\n",
    ")"
   ]
  },
  {
   "cell_type": "code",
   "execution_count": 7,
   "id": "bb7f4660-1162-4f35-846b-724551ac3877",
   "metadata": {
    "tags": []
   },
   "outputs": [],
   "source": [
    "from sagemaker.predictor import Predictor\n",
    "\n",
    "predictor = Predictor(\n",
    "    endpoint_name=endpoint_name, sagemaker_session=session, serializer=CSVSerializer()\n",
    ")"
   ]
  },
  {
   "cell_type": "markdown",
   "id": "10efbb0d-2cc7-48ef-aa6e-fc0b5388e9bb",
   "metadata": {},
   "source": [
    "### Monitoring"
   ]
  },
  {
   "cell_type": "code",
   "execution_count": 8,
   "id": "07f6c069-dc34-432b-a43d-8f63e06a2bf2",
   "metadata": {
    "tags": []
   },
   "outputs": [],
   "source": [
    "from sagemaker.clarify import (\n",
    "    BiasConfig,\n",
    "    DataConfig,\n",
    "    ModelConfig,\n",
    "    ModelPredictedLabelConfig,\n",
    "    SHAPConfig,\n",
    ")"
   ]
  },
  {
   "cell_type": "code",
   "execution_count": 9,
   "id": "552a1bbc-05e3-4f08-8ee0-ece7ec3f90ca",
   "metadata": {
    "tags": []
   },
   "outputs": [],
   "source": [
    "model_bias_baselining_job_result_uri = f\"s3://{bucket}/{prefix}/model_bias\""
   ]
  },
  {
   "cell_type": "code",
   "execution_count": 10,
   "id": "e595b8cf-e7f0-4dc1-9b33-d1d091cb44de",
   "metadata": {
    "tags": []
   },
   "outputs": [],
   "source": [
    "validation_file = \"s3://\" + bucket + \"/\" + prefix + \"/validation/validation_data.csv\"\n",
    "train_file = \"s3://\" + bucket + \"/\" + prefix + \"/train/train_data.csv\"\n",
    "batch_file = \"s3://\" + bucket + \"/\" + prefix + \"/batch/batch_data.csv\""
   ]
  },
  {
   "cell_type": "code",
   "execution_count": 11,
   "id": "2ee9bbef-b4dc-4a66-a33f-f248cf74ada4",
   "metadata": {
    "tags": []
   },
   "outputs": [
    {
     "name": "stderr",
     "output_type": "stream",
     "text": [
      "600it [01:09,  8.68it/s]"
     ]
    },
    {
     "name": "stdout",
     "output_type": "stream",
     "text": [
      "Done!\n"
     ]
    },
    {
     "name": "stderr",
     "output_type": "stream",
     "text": [
      "\n"
     ]
    }
   ],
   "source": [
    "from tqdm import tqdm\n",
    "\n",
    "limit = 600  \n",
    "i = 0\n",
    "with open(\"validation_data.csv\", \"r\") as f:\n",
    "    for row in tqdm(f):\n",
    "        if(i == 0):\n",
    "            i+=1\n",
    "            continue\n",
    "        (label, input_cols) = row.split(\",\", 1)\n",
    "        probability = float(predictor.predict(input_cols))\n",
    "        i += 1\n",
    "        if i > limit:\n",
    "            break\n",
    "        sleep(0.1)\n",
    "print(\"Done!\")"
   ]
  },
  {
   "cell_type": "code",
   "execution_count": 12,
   "id": "1109643d-ecb3-4d0a-96fd-26f6018d90ef",
   "metadata": {
    "tags": []
   },
   "outputs": [],
   "source": [
    "model_bias_monitor = ModelBiasMonitor(\n",
    "    role=role,\n",
    "    instance_count=1,\n",
    "    instance_type=\"ml.m5.xlarge\",\n",
    "    volume_size_in_gb=20,\n",
    "    max_runtime_in_seconds=1800,\n",
    "    sagemaker_session=session,\n",
    ")\n",
    "\n",
    "model_bias_data_config = DataConfig(\n",
    "    s3_data_input_path= validation_file,\n",
    "    s3_output_path=model_bias_baselining_job_result_uri,\n",
    "    label = \"price\"\n",
    ")"
   ]
  },
  {
   "cell_type": "code",
   "execution_count": 13,
   "id": "bb28e2d6-5962-495b-b20e-252680dd3b2b",
   "metadata": {
    "tags": []
   },
   "outputs": [],
   "source": [
    "model_bias_config = BiasConfig(\n",
    "    label_values_or_threshold=[16890.124046434496], #The mean price\n",
    "    facet_name=\"year\",\n",
    "    facet_values_or_threshold = [2010]\n",
    ")"
   ]
  },
  {
   "cell_type": "code",
   "execution_count": 14,
   "id": "4b50ecc3-e7f8-411f-b267-b55e2230211b",
   "metadata": {
    "tags": []
   },
   "outputs": [],
   "source": [
    "model_config = ModelConfig(\n",
    "    endpoint_name =endpoint_name,\n",
    "    instance_count=1,\n",
    "    instance_type=\"ml.m5.xlarge\",\n",
    ")"
   ]
  },
  {
   "cell_type": "code",
   "execution_count": 15,
   "id": "6ab8aad7-3958-485b-bcb8-d9f49d4e30d1",
   "metadata": {
    "tags": []
   },
   "outputs": [],
   "source": [
    "import pandas as pd"
   ]
  },
  {
   "cell_type": "code",
   "execution_count": 16,
   "id": "8903938c-0799-491a-b860-659bbf425a7a",
   "metadata": {
    "tags": []
   },
   "outputs": [
    {
     "name": "stderr",
     "output_type": "stream",
     "text": [
      "INFO:sagemaker:Creating processing-job with name baseline-suggestion-job-2024-06-23-06-03-14-521\n"
     ]
    },
    {
     "name": "stdout",
     "output_type": "stream",
     "text": [
      "..................\u001b[34mWARNING:root:logging.conf not found when configuring logging, using default logging configuration.\u001b[0m\n",
      "\u001b[34mINFO:sagemaker-clarify-processing:Starting SageMaker Clarify Processing job\u001b[0m\n",
      "\u001b[34mINFO:analyzer.data_loading.data_loader_util:Analysis config path: /opt/ml/processing/input/config/analysis_config.json\u001b[0m\n",
      "\u001b[34mINFO:analyzer.data_loading.data_loader_util:Analysis result path: /opt/ml/processing/output\u001b[0m\n",
      "\u001b[34mINFO:analyzer.data_loading.data_loader_util:This host is algo-1.\u001b[0m\n",
      "\u001b[34mINFO:analyzer.data_loading.data_loader_util:This host is the leader.\u001b[0m\n",
      "\u001b[34mINFO:analyzer.data_loading.data_loader_util:Number of hosts in the cluster is 1.\u001b[0m\n",
      "\u001b[34mINFO:sagemaker-clarify-processing:Running Python / Pandas based analyzer.\u001b[0m\n",
      "\u001b[34mINFO:analyzer.data_loading.data_loader_factory:Dataset type: text/csv uri: /opt/ml/processing/input/data\u001b[0m\n",
      "\u001b[34m/usr/local/lib/python3.9/site-packages/analyzer/data_loading/data_readers/csv_data_reader.py:58: FutureWarning: The frame.append method is deprecated and will be removed from pandas in a future version. Use pandas.concat instead.\n",
      "  df = df.append(df_tmp, ignore_index=True)\u001b[0m\n",
      "\u001b[34m/usr/local/lib/python3.9/site-packages/analyzer/data_loading/data_readers/csv_data_reader.py:58: FutureWarning: The frame.append method is deprecated and will be removed from pandas in a future version. Use pandas.concat instead.\n",
      "  df = df.append(df_tmp, ignore_index=True)\u001b[0m\n",
      "\u001b[34mINFO:sagemaker-clarify-processing:Loading dataset...\u001b[0m\n",
      "\u001b[34m/usr/local/lib/python3.9/site-packages/analyzer/data_loading/data_readers/csv_data_reader.py:58: FutureWarning: The frame.append method is deprecated and will be removed from pandas in a future version. Use pandas.concat instead.\n",
      "  df = df.append(df_tmp, ignore_index=True)\u001b[0m\n",
      "\u001b[34mINFO:sagemaker-clarify-processing:Loaded dataset. Dataset info:\u001b[0m\n",
      "\u001b[34m<class 'pandas.core.frame.DataFrame'>\u001b[0m\n",
      "\u001b[34mRangeIndex: 10657 entries, 0 to 10656\u001b[0m\n",
      "\u001b[34mData columns (total 55 columns):\n",
      " #   Column                  Non-Null Count  Dtype  \u001b[0m\n",
      "\u001b[34m---  ------                  --------------  -----  \n",
      " 0   year                    10657 non-null  int64  \n",
      " 1   mileage                 10657 non-null  int64  \n",
      " 2   mpg                     10657 non-null  float64\n",
      " 3   engineSize              10657 non-null  float64\n",
      " 4   model_ 1 Series         10657 non-null  int64  \n",
      " 5   model_ 2 Series         10657 non-null  int64  \n",
      " 6   model_ 3 Series         10657 non-null  int64  \n",
      " 7   model_ 4 Series         10657 non-null  int64  \n",
      " 8   model_ 5 Series         10657 non-null  int64  \n",
      " 9   model_ A Class          10657 non-null  int64  \n",
      " 10  model_ A1               10657 non-null  int64  \n",
      " 11  model_ A3               10657 non-null  int64  \n",
      " 12  model_ A4               10657 non-null  int64  \n",
      " 13  model_ Astra            10657 non-null  int64  \n",
      " 14  model_ Aygo             10657 non-null  int64  \n",
      " 15  model_ C Class          10657 non-null  int64  \n",
      " 16  model_ Corsa            10657 non-null  int64  \n",
      " 17  model_ E Class          10657 non-null  int64  \n",
      " 18  model_ EcoSport         10657 non-null  int64  \n",
      " 19  model_ Fabia            10657 non-null  int64  \n",
      " 20  model_ Fiesta           10657 non-null  int64  \n",
      " 21  model_ Focus            10657 non-null  int64  \n",
      " 22  model_ GLC Class        10657 non-null  int64  \n",
      " 23  model_ Golf             10657 non-null  int64  \n",
      " 24  model_ I10              10657 non-null  int64  \n",
      " 25  model_ Insignia         10657 non-null  int64  \n",
      " 26  model_ Kuga             10657 non-null  int64  \n",
      " 27  model_ Mokka X          10657 non-null  int64  \n",
      " 28  model_ Octavia          10657 non-null  int64  \n",
      " 29  model_ Polo             10657 non-null  int64  \n",
      " 30  model_ Q3               10657 non-null  int64  \n",
      " 31  model_ Tiguan           10657 non-null  int64  \n",
      " 32  model_ Tucson           10657 non-null  int64  \n",
      " 33  model_ Yaris            10657 non-null  int64  \n",
      " 34  model_Other             10657 non-null  int64  \n",
      " 35  maker_audi              10657 non-null  int64  \n",
      " 36  maker_bmw               10657 non-null  int64  \n",
      " 37  maker_cclass            10657 non-null  int64  \n",
      " 38  maker_focus             10657 non-null  int64  \n",
      " 39  maker_ford              10657 non-null  int64  \n",
      " 40  maker_hyundi            10657 non-null  int64  \n",
      " 41  maker_merc              10657 non-null  int64  \n",
      " 42  maker_skoda             10657 non-null  int64  \n",
      " 43  maker_toyota            10657 non-null  int64  \n",
      " 44  maker_vauxhall          10657 non-null  int64  \n",
      " 45  maker_vw                10657 non-null  int64  \n",
      " 46  transmission_Automatic  10657 non-null  int64  \n",
      " 47  transmission_Manual     10657 non-null  int64  \n",
      " 48  transmission_Other      10657 non-null  int64  \n",
      " 49  transmission_Semi-Auto  10657 non-null  int64  \n",
      " 50  fuelType_Diesel         10657 non-null  int64  \n",
      " 51  fuelType_Electric       10657 non-null  int64  \n",
      " 52  fuelType_Hybrid         10657 non-null  int64  \n",
      " 53  fuelType_Other          10657 non-null  int64  \n",
      " 54  fuelType_Petrol         10657 non-null  int64  \u001b[0m\n",
      "\u001b[34mdtypes: float64(2), int64(53)\u001b[0m\n",
      "\u001b[34mmemory usage: 4.5 MB\u001b[0m\n",
      "\u001b[34mINFO:analyzer.predictor.managed_endpoint:Using endpoint xgb-Final-project-2024-06-23-0558\u001b[0m\n",
      "\u001b[34mINFO:sagemaker-clarify-processing:Using endpoint name: xgb-Final-project-2024-06-23-0558\u001b[0m\n",
      "\u001b[34mINFO:sagemaker-clarify-processing:Waiting for endpoint ...\u001b[0m\n",
      "\u001b[34mINFO:analyzer.predictor.managed_endpoint:Checking endpoint status:\u001b[0m\n",
      "\u001b[34mLegend:\u001b[0m\n",
      "\u001b[34m(OutOfService: x, Creating: -, Updating: -, InService: !, RollingBack: <, Deleting: o, Failed: *)\u001b[0m\n",
      "\u001b[34mINFO:analyzer.predictor.managed_endpoint:Endpoint is in service after 0 seconds\u001b[0m\n",
      "\u001b[34mINFO:sagemaker-clarify-processing:Endpoint ready.\u001b[0m\n",
      "\u001b[34mINFO:sagemaker-clarify-processing:======================================\u001b[0m\n",
      "\u001b[34mINFO:sagemaker-clarify-processing:Calculating post-training bias metrics\u001b[0m\n",
      "\u001b[34mINFO:sagemaker-clarify-processing:======================================\u001b[0m\n",
      "\u001b[34mINFO:sagemaker-clarify-processing:Getting predictions from the endpoint\u001b[0m\n",
      "\u001b[34mINFO:smclarify.bias.metrics.common:Column price with data uniqueness fraction 0.3394951674955428 is classifed as a CONTINUOUS column\u001b[0m\n",
      "\u001b[34mINFO:smclarify.bias.metrics.common:Column year with data uniqueness fraction 0.002158205874073379 is classifed as a CATEGORICAL column\u001b[0m\n",
      "\u001b[34m/usr/local/lib/python3.9/site-packages/smclarify/bias/report.py:591: FutureWarning: In a future version of pandas all arguments of DataFrame.drop except for the argument 'labels' will be keyword-only.\n",
      "  df = df.drop(facet_column.name, 1)\u001b[0m\n",
      "\u001b[34mINFO:smclarify.bias.metrics.common:Column price with data uniqueness fraction 0.3394951674955428 is classifed as a CONTINUOUS column\u001b[0m\n",
      "\u001b[34mINFO:smclarify.bias.metrics.common:Column None with data uniqueness fraction 0.8995026742985831 is classifed as a CONTINUOUS column\u001b[0m\n",
      "\u001b[34m/usr/local/lib/python3.9/site-packages/smclarify/bias/report.py:210: FutureWarning: The series.append method is deprecated and will be removed from pandas in a future version. Use pandas.concat instead.\n",
      "  data_interval_indices = _interval_index(label_data.append(predicted_label_data), positive_label_values)\u001b[0m\n",
      "\u001b[34mWARNING:smclarify.bias.metrics.common:Data type of the elements in `positive_label_values` and in `label` must match. Converted positive_label_values from [0.2] to [0]\u001b[0m\n",
      "\u001b[34mERROR:smclarify.bias.report:AD metrics failed\u001b[0m\n",
      "\u001b[34mTraceback (most recent call last):\n",
      "  File \"/usr/local/lib/python3.9/site-packages/smclarify/bias/report.py\", line 323, in _categorical_metric_call_wrapper\n",
      "    metric_value = smclarify.bias.metrics.call_metric(\n",
      "  File \"/usr/local/lib/python3.9/site-packages/smclarify/bias/metrics/__init__.py\", line 27, in call_metric\n",
      "    return metric(**{key: kwargs[key] for key in inspect.signature(metric).parameters.keys()})\n",
      "  File \"/usr/local/lib/python3.9/site-packages/smclarify/bias/metrics/posttraining.py\", line 224, in AD\n",
      "    raise ValueError(\"Facet set is empty\")\u001b[0m\n",
      "\u001b[34mValueError: Facet set is empty\u001b[0m\n",
      "\u001b[34mWARNING:smclarify.bias.metrics.common:Data type of the elements in `positive_label_values` and in `label` must match. Converted positive_label_values from [0.2] to [0]\u001b[0m\n",
      "\u001b[34mERROR:smclarify.bias.report:CDDPL metrics failed\u001b[0m\n",
      "\u001b[34mTraceback (most recent call last):\n",
      "  File \"/usr/local/lib/python3.9/site-packages/smclarify/bias/report.py\", line 323, in _categorical_metric_call_wrapper\n",
      "    metric_value = smclarify.bias.metrics.call_metric(\n",
      "  File \"/usr/local/lib/python3.9/site-packages/smclarify/bias/metrics/__init__.py\", line 27, in call_metric\n",
      "    return metric(**{key: kwargs[key] for key in inspect.signature(metric).parameters.keys()})\n",
      "  File \"/usr/local/lib/python3.9/site-packages/smclarify/bias/metrics/posttraining.py\", line 277, in CDDPL\n",
      "    return common.CDD(feature, sensitive_facet_index, positive_predicted_label_index, group_variable)\n",
      "  File \"/usr/local/lib/python3.9/site-packages/smclarify/bias/metrics/common.py\", line 100, in CDD\n",
      "    raise ValueError(\"Group variable is empty or not provided\")\u001b[0m\n",
      "\u001b[34mValueError: Group variable is empty or not provided\u001b[0m\n",
      "\u001b[34mWARNING:smclarify.bias.metrics.common:Data type of the elements in `positive_label_values` and in `label` must match. Converted positive_label_values from [0.2] to [0]\u001b[0m\n",
      "\u001b[34mERROR:smclarify.bias.report:DAR metrics failed\u001b[0m\n",
      "\u001b[34mTraceback (most recent call last):\n",
      "  File \"/usr/local/lib/python3.9/site-packages/smclarify/bias/report.py\", line 323, in _categorical_metric_call_wrapper\n",
      "    metric_value = smclarify.bias.metrics.call_metric(\n",
      "  File \"/usr/local/lib/python3.9/site-packages/smclarify/bias/metrics/__init__.py\", line 27, in call_metric\n",
      "    return metric(**{key: kwargs[key] for key in inspect.signature(metric).parameters.keys()})\n",
      "  File \"/usr/local/lib/python3.9/site-packages/smclarify/bias/metrics/posttraining.py\", line 179, in DAR\n",
      "    dar, _ = common.DLR(feature, sensitive_facet_index, positive_label_index, positive_predicted_label_index)\n",
      "  File \"/usr/local/lib/python3.9/site-packages/smclarify/bias/metrics/common.py\", line 321, in DLR\n",
      "    raise ValueError(\"DLR: Facet set is empty\")\u001b[0m\n",
      "\u001b[34mValueError: DLR: Facet set is empty\u001b[0m\n",
      "\u001b[34mWARNING:smclarify.bias.metrics.common:Data type of the elements in `positive_label_values` and in `label` must match. Converted positive_label_values from [0.2] to [0]\u001b[0m\n",
      "\u001b[34mERROR:smclarify.bias.report:DCA metrics failed\u001b[0m\n",
      "\u001b[34mTraceback (most recent call last):\n",
      "  File \"/usr/local/lib/python3.9/site-packages/smclarify/bias/report.py\", line 323, in _categorical_metric_call_wrapper\n",
      "    metric_value = smclarify.bias.metrics.call_metric(\n",
      "  File \"/usr/local/lib/python3.9/site-packages/smclarify/bias/metrics/__init__.py\", line 27, in call_metric\n",
      "    return metric(**{key: kwargs[key] for key in inspect.signature(metric).parameters.keys()})\n",
      "  File \"/usr/local/lib/python3.9/site-packages/smclarify/bias/metrics/posttraining.py\", line 96, in DCA\n",
      "    dca, _ = common.DCO(feature, sensitive_facet_index, positive_label_index, positive_predicted_label_index)\n",
      "  File \"/usr/local/lib/python3.9/site-packages/smclarify/bias/metrics/common.py\", line 267, in DCO\n",
      "    raise ValueError(\"DCO: Facet set is empty\")\u001b[0m\n",
      "\u001b[34mValueError: DCO: Facet set is empty\u001b[0m\n",
      "\u001b[34mWARNING:smclarify.bias.metrics.common:Data type of the elements in `positive_label_values` and in `label` must match. Converted positive_label_values from [0.2] to [0]\u001b[0m\n",
      "\u001b[34mERROR:smclarify.bias.report:DCR metrics failed\u001b[0m\n",
      "\u001b[34mTraceback (most recent call last):\n",
      "  File \"/usr/local/lib/python3.9/site-packages/smclarify/bias/report.py\", line 323, in _categorical_metric_call_wrapper\n",
      "    metric_value = smclarify.bias.metrics.call_metric(\n",
      "  File \"/usr/local/lib/python3.9/site-packages/smclarify/bias/metrics/__init__.py\", line 27, in call_metric\n",
      "    return metric(**{key: kwargs[key] for key in inspect.signature(metric).parameters.keys()})\n",
      "  File \"/usr/local/lib/python3.9/site-packages/smclarify/bias/metrics/posttraining.py\", line 116, in DCR\n",
      "    _, dcr = common.DCO(feature, sensitive_facet_index, positive_label_index, positive_predicted_label_index)\n",
      "  File \"/usr/local/lib/python3.9/site-packages/smclarify/bias/metrics/common.py\", line 267, in DCO\n",
      "    raise ValueError(\"DCO: Facet set is empty\")\u001b[0m\n",
      "\u001b[34mValueError: DCO: Facet set is empty\u001b[0m\n",
      "\u001b[34mWARNING:smclarify.bias.metrics.common:Data type of the elements in `positive_label_values` and in `label` must match. Converted positive_label_values from [0.2] to [0]\u001b[0m\n",
      "\u001b[34mERROR:smclarify.bias.report:DI metrics failed\u001b[0m\n",
      "\u001b[34mTraceback (most recent call last):\n",
      "  File \"/usr/local/lib/python3.9/site-packages/smclarify/bias/report.py\", line 323, in _categorical_metric_call_wrapper\n",
      "    metric_value = smclarify.bias.metrics.call_metric(\n",
      "  File \"/usr/local/lib/python3.9/site-packages/smclarify/bias/metrics/__init__.py\", line 27, in call_metric\n",
      "    return metric(**{key: kwargs[key] for key in inspect.signature(metric).parameters.keys()})\n",
      "  File \"/usr/local/lib/python3.9/site-packages/smclarify/bias/metrics/posttraining.py\", line 75, in DI\n",
      "    raise ValueError(\"Facet set is empty\")\u001b[0m\n",
      "\u001b[34mValueError: Facet set is empty\u001b[0m\n",
      "\u001b[34mWARNING:smclarify.bias.metrics.common:Data type of the elements in `positive_label_values` and in `label` must match. Converted positive_label_values from [0.2] to [0]\u001b[0m\n",
      "\u001b[34mERROR:smclarify.bias.report:DPPL metrics failed\u001b[0m\n",
      "\u001b[34mTraceback (most recent call last):\n",
      "  File \"/usr/local/lib/python3.9/site-packages/smclarify/bias/report.py\", line 323, in _categorical_metric_call_wrapper\n",
      "    metric_value = smclarify.bias.metrics.call_metric(\n",
      "  File \"/usr/local/lib/python3.9/site-packages/smclarify/bias/metrics/__init__.py\", line 27, in call_metric\n",
      "    return metric(**{key: kwargs[key] for key in inspect.signature(metric).parameters.keys()})\n",
      "  File \"/usr/local/lib/python3.9/site-packages/smclarify/bias/metrics/posttraining.py\", line 41, in DPPL\n",
      "    return common.DPL(feature, sensitive_facet_index, positive_predicted_label_index)\n",
      "  File \"/usr/local/lib/python3.9/site-packages/smclarify/bias/metrics/common.py\", line 82, in DPL\n",
      "    raise ValueError(\"Facet set is empty.\")\u001b[0m\n",
      "\u001b[34mValueError: Facet set is empty.\u001b[0m\n",
      "\u001b[34mWARNING:smclarify.bias.metrics.common:Data type of the elements in `positive_label_values` and in `label` must match. Converted positive_label_values from [0.2] to [0]\u001b[0m\n",
      "\u001b[34mERROR:smclarify.bias.report:DRR metrics failed\u001b[0m\n",
      "\u001b[34mTraceback (most recent call last):\n",
      "  File \"/usr/local/lib/python3.9/site-packages/smclarify/bias/report.py\", line 323, in _categorical_metric_call_wrapper\n",
      "    metric_value = smclarify.bias.metrics.call_metric(\n",
      "  File \"/usr/local/lib/python3.9/site-packages/smclarify/bias/metrics/__init__.py\", line 27, in call_metric\n",
      "    return metric(**{key: kwargs[key] for key in inspect.signature(metric).parameters.keys()})\n",
      "  File \"/usr/local/lib/python3.9/site-packages/smclarify/bias/metrics/posttraining.py\", line 199, in DRR\n",
      "    _, drr = common.DLR(feature, sensitive_facet_index, positive_label_index, positive_predicted_label_index)\n",
      "  File \"/usr/local/lib/python3.9/site-packages/smclarify/bias/metrics/common.py\", line 321, in DLR\n",
      "    raise ValueError(\"DLR: Facet set is empty\")\u001b[0m\n",
      "\u001b[34mValueError: DLR: Facet set is empty\u001b[0m\n",
      "\u001b[34mWARNING:smclarify.bias.metrics.common:Data type of the elements in `positive_label_values` and in `label` must match. Converted positive_label_values from [0.2] to [0]\u001b[0m\n",
      "\u001b[34mERROR:smclarify.bias.report:FT metrics failed\u001b[0m\n",
      "\u001b[34mTraceback (most recent call last):\n",
      "  File \"/usr/local/lib/python3.9/site-packages/smclarify/bias/report.py\", line 323, in _categorical_metric_call_wrapper\n",
      "    metric_value = smclarify.bias.metrics.call_metric(\n",
      "  File \"/usr/local/lib/python3.9/site-packages/smclarify/bias/metrics/__init__.py\", line 27, in call_metric\n",
      "    return metric(**{key: kwargs[key] for key in inspect.signature(metric).parameters.keys()})\n",
      "  File \"/usr/local/lib/python3.9/site-packages/smclarify/bias/metrics/posttraining.py\", line 355, in FT\n",
      "    raise ValueError(\"Facet set is empty\")\u001b[0m\n",
      "\u001b[34mValueError: Facet set is empty\u001b[0m\n",
      "\u001b[34mWARNING:smclarify.bias.metrics.common:Data type of the elements in `positive_label_values` and in `label` must match. Converted positive_label_values from [0.2] to [0]\u001b[0m\n",
      "\u001b[34mWARNING:smclarify.bias.metrics.common:Data type of the elements in `positive_label_values` and in `label` must match. Converted positive_label_values from [0.2] to [0]\u001b[0m\n",
      "\u001b[34mERROR:smclarify.bias.report:RD metrics failed\u001b[0m\n",
      "\u001b[34mTraceback (most recent call last):\n",
      "  File \"/usr/local/lib/python3.9/site-packages/smclarify/bias/report.py\", line 323, in _categorical_metric_call_wrapper\n",
      "    metric_value = smclarify.bias.metrics.call_metric(\n",
      "  File \"/usr/local/lib/python3.9/site-packages/smclarify/bias/metrics/__init__.py\", line 27, in call_metric\n",
      "    return metric(**{key: kwargs[key] for key in inspect.signature(metric).parameters.keys()})\n",
      "  File \"/usr/local/lib/python3.9/site-packages/smclarify/bias/metrics/posttraining.py\", line 137, in RD\n",
      "    rd, _ = common.DLA(feature, sensitive_facet_index, positive_label_index, positive_predicted_label_index)\n",
      "  File \"/usr/local/lib/python3.9/site-packages/smclarify/bias/metrics/common.py\", line 372, in DLA\n",
      "    raise ValueError(\"DLA: Facet set is empty\")\u001b[0m\n",
      "\u001b[34mValueError: DLA: Facet set is empty\u001b[0m\n",
      "\u001b[34mWARNING:smclarify.bias.metrics.common:Data type of the elements in `positive_label_values` and in `label` must match. Converted positive_label_values from [0.2] to [0]\u001b[0m\n",
      "\u001b[34mERROR:smclarify.bias.report:SD metrics failed\u001b[0m\n",
      "\u001b[34mTraceback (most recent call last):\n",
      "  File \"/usr/local/lib/python3.9/site-packages/smclarify/bias/report.py\", line 323, in _categorical_metric_call_wrapper\n",
      "    metric_value = smclarify.bias.metrics.call_metric(\n",
      "  File \"/usr/local/lib/python3.9/site-packages/smclarify/bias/metrics/__init__.py\", line 27, in call_metric\n",
      "    return metric(**{key: kwargs[key] for key in inspect.signature(metric).parameters.keys()})\n",
      "  File \"/usr/local/lib/python3.9/site-packages/smclarify/bias/metrics/posttraining.py\", line 158, in SD\n",
      "    _, sd = common.DLA(feature, sensitive_facet_index, positive_label_index, positive_predicted_label_index)\n",
      "  File \"/usr/local/lib/python3.9/site-packages/smclarify/bias/metrics/common.py\", line 372, in DLA\n",
      "    raise ValueError(\"DLA: Facet set is empty\")\u001b[0m\n",
      "\u001b[34mValueError: DLA: Facet set is empty\u001b[0m\n",
      "\u001b[34mWARNING:smclarify.bias.metrics.common:Data type of the elements in `positive_label_values` and in `label` must match. Converted positive_label_values from [0.2] to [0]\u001b[0m\n",
      "\u001b[34mERROR:smclarify.bias.report:TE metrics failed\u001b[0m\n",
      "\u001b[34mTraceback (most recent call last):\n",
      "  File \"/usr/local/lib/python3.9/site-packages/smclarify/bias/report.py\", line 323, in _categorical_metric_call_wrapper\n",
      "    metric_value = smclarify.bias.metrics.call_metric(\n",
      "  File \"/usr/local/lib/python3.9/site-packages/smclarify/bias/metrics/__init__.py\", line 27, in call_metric\n",
      "    return metric(**{key: kwargs[key] for key in inspect.signature(metric).parameters.keys()})\n",
      "  File \"/usr/local/lib/python3.9/site-packages/smclarify/bias/metrics/posttraining.py\", line 302, in TE\n",
      "    raise ValueError(\"Facet set is empty\")\u001b[0m\n",
      "\u001b[34mValueError: Facet set is empty\u001b[0m\n",
      "\u001b[34mINFO:sagemaker-clarify-processing:Calculated global analysis with predictor\u001b[0m\n",
      "\u001b[34mINFO:analyzer.predictor.predictor:Stop using endpoint: xgb-Final-project-2024-06-23-0558\u001b[0m\n",
      "\u001b[34mINFO:analyzer.predictor.managed_endpoint:Model endpoint delivered 1.35378 requests per second and a total of 2 requests over 1 seconds\u001b[0m\n",
      "\u001b[34mINFO:sagemaker-clarify-processing:=====================================\u001b[0m\n",
      "\u001b[34mINFO:sagemaker-clarify-processing:Calculating pre-training bias metrics\u001b[0m\n",
      "\u001b[34mINFO:sagemaker-clarify-processing:=====================================\u001b[0m\n",
      "\u001b[34mINFO:smclarify.bias.metrics.common:Column price with data uniqueness fraction 0.3394951674955428 is classifed as a CONTINUOUS column\u001b[0m\n",
      "\u001b[34mINFO:smclarify.bias.metrics.common:Column year with data uniqueness fraction 0.002158205874073379 is classifed as a CATEGORICAL column\u001b[0m\n",
      "\u001b[34m/usr/local/lib/python3.9/site-packages/smclarify/bias/report.py:591: FutureWarning: In a future version of pandas all arguments of DataFrame.drop except for the argument 'labels' will be keyword-only.\n",
      "  df = df.drop(facet_column.name, 1)\u001b[0m\n",
      "\u001b[34mINFO:smclarify.bias.metrics.common:Column price with data uniqueness fraction 0.3394951674955428 is classifed as a CONTINUOUS column\u001b[0m\n",
      "\u001b[34mWARNING:smclarify.bias.metrics.common:Data type of the elements in `positive_label_values` and in `label` must match. Converted positive_label_values from [0.2] to [0]\u001b[0m\n",
      "\u001b[34mERROR:smclarify.bias.report:CDDL metrics failed\u001b[0m\n",
      "\u001b[34mTraceback (most recent call last):\n",
      "  File \"/usr/local/lib/python3.9/site-packages/smclarify/bias/report.py\", line 323, in _categorical_metric_call_wrapper\n",
      "    metric_value = smclarify.bias.metrics.call_metric(\n",
      "  File \"/usr/local/lib/python3.9/site-packages/smclarify/bias/metrics/__init__.py\", line 27, in call_metric\n",
      "    return metric(**{key: kwargs[key] for key in inspect.signature(metric).parameters.keys()})\n",
      "  File \"/usr/local/lib/python3.9/site-packages/smclarify/bias/metrics/pretraining.py\", line 195, in CDDL\n",
      "    return common.CDD(feature, sensitive_facet_index, positive_label_index, group_variable)\n",
      "  File \"/usr/local/lib/python3.9/site-packages/smclarify/bias/metrics/common.py\", line 100, in CDD\n",
      "    raise ValueError(\"Group variable is empty or not provided\")\u001b[0m\n",
      "\u001b[34mValueError: Group variable is empty or not provided\u001b[0m\n",
      "\u001b[34mWARNING:smclarify.bias.metrics.common:Data type of the elements in `positive_label_values` and in `label` must match. Converted positive_label_values from [0.2] to [0]\u001b[0m\n",
      "\u001b[34mERROR:smclarify.bias.report:CI metrics failed\u001b[0m\n",
      "\u001b[34mTraceback (most recent call last):\n",
      "  File \"/usr/local/lib/python3.9/site-packages/smclarify/bias/report.py\", line 323, in _categorical_metric_call_wrapper\n",
      "    metric_value = smclarify.bias.metrics.call_metric(\n",
      "  File \"/usr/local/lib/python3.9/site-packages/smclarify/bias/metrics/__init__.py\", line 27, in call_metric\n",
      "    return metric(**{key: kwargs[key] for key in inspect.signature(metric).parameters.keys()})\n",
      "  File \"/usr/local/lib/python3.9/site-packages/smclarify/bias/metrics/pretraining.py\", line 53, in CI\n",
      "    raise ValueError(\"CI: facet set is empty. Check that x[facet] has non-zero length.\")\u001b[0m\n",
      "\u001b[34mValueError: CI: facet set is empty. Check that x[facet] has non-zero length.\u001b[0m\n",
      "\u001b[34mWARNING:smclarify.bias.metrics.common:Data type of the elements in `positive_label_values` and in `label` must match. Converted positive_label_values from [0.2] to [0]\u001b[0m\n",
      "\u001b[34mERROR:smclarify.bias.report:DPL metrics failed\u001b[0m\n",
      "\u001b[34mTraceback (most recent call last):\n",
      "  File \"/usr/local/lib/python3.9/site-packages/smclarify/bias/report.py\", line 323, in _categorical_metric_call_wrapper\n",
      "    metric_value = smclarify.bias.metrics.call_metric(\n",
      "  File \"/usr/local/lib/python3.9/site-packages/smclarify/bias/metrics/__init__.py\", line 27, in call_metric\n",
      "    return metric(**{key: kwargs[key] for key in inspect.signature(metric).parameters.keys()})\n",
      "  File \"/usr/local/lib/python3.9/site-packages/smclarify/bias/metrics/pretraining.py\", line 71, in DPL\n",
      "    return common.DPL(feature, sensitive_facet_index, positive_label_index)\n",
      "  File \"/usr/local/lib/python3.9/site-packages/smclarify/bias/metrics/common.py\", line 82, in DPL\n",
      "    raise ValueError(\"Facet set is empty.\")\u001b[0m\n",
      "\u001b[34mValueError: Facet set is empty.\u001b[0m\n",
      "\u001b[34mWARNING:smclarify.bias.metrics.common:Data type of the elements in `positive_label_values` and in `label` must match. Converted positive_label_values from [0.2] to [0]\u001b[0m\n",
      "\u001b[34mERROR:smclarify.bias.report:JS metrics failed\u001b[0m\n",
      "\u001b[34mTraceback (most recent call last):\n",
      "  File \"/usr/local/lib/python3.9/site-packages/smclarify/bias/report.py\", line 323, in _categorical_metric_call_wrapper\n",
      "    metric_value = smclarify.bias.metrics.call_metric(\n",
      "  File \"/usr/local/lib/python3.9/site-packages/smclarify/bias/metrics/__init__.py\", line 27, in call_metric\n",
      "    return metric(**{key: kwargs[key] for key in inspect.signature(metric).parameters.keys()})\n",
      "  File \"/usr/local/lib/python3.9/site-packages/smclarify/bias/metrics/pretraining.py\", line 114, in JS\n",
      "    raise ValueError(\"No instance of common facet found, dataset may be too small\")\u001b[0m\n",
      "\u001b[34mValueError: No instance of common facet found, dataset may be too small\u001b[0m\n",
      "\u001b[34mWARNING:smclarify.bias.metrics.common:Data type of the elements in `positive_label_values` and in `label` must match. Converted positive_label_values from [0.2] to [0]\u001b[0m\n",
      "\u001b[34mERROR:smclarify.bias.report:KL metrics failed\u001b[0m\n",
      "\u001b[34mTraceback (most recent call last):\n",
      "  File \"/usr/local/lib/python3.9/site-packages/smclarify/bias/report.py\", line 323, in _categorical_metric_call_wrapper\n",
      "    metric_value = smclarify.bias.metrics.call_metric(\n",
      "  File \"/usr/local/lib/python3.9/site-packages/smclarify/bias/metrics/__init__.py\", line 27, in call_metric\n",
      "    return metric(**{key: kwargs[key] for key in inspect.signature(metric).parameters.keys()})\n",
      "  File \"/usr/local/lib/python3.9/site-packages/smclarify/bias/metrics/pretraining.py\", line 91, in KL\n",
      "    raise ValueError(\"No instance of common facet found, dataset may be too small\")\u001b[0m\n",
      "\u001b[34mValueError: No instance of common facet found, dataset may be too small\u001b[0m\n",
      "\u001b[34mWARNING:smclarify.bias.metrics.common:Data type of the elements in `positive_label_values` and in `label` must match. Converted positive_label_values from [0.2] to [0]\u001b[0m\n",
      "\u001b[34mERROR:smclarify.bias.report:KS metrics failed\u001b[0m\n",
      "\u001b[34mTraceback (most recent call last):\n",
      "  File \"/usr/local/lib/python3.9/site-packages/smclarify/bias/report.py\", line 323, in _categorical_metric_call_wrapper\n",
      "    metric_value = smclarify.bias.metrics.call_metric(\n",
      "  File \"/usr/local/lib/python3.9/site-packages/smclarify/bias/metrics/__init__.py\", line 27, in call_metric\n",
      "    return metric(**{key: kwargs[key] for key in inspect.signature(metric).parameters.keys()})\n",
      "  File \"/usr/local/lib/python3.9/site-packages/smclarify/bias/metrics/pretraining.py\", line 175, in KS\n",
      "    return LP_norm(label, sensitive_facet_index, np.inf)\n",
      "  File \"/usr/local/lib/python3.9/site-packages/smclarify/bias/metrics/pretraining.py\", line 141, in LP_norm\n",
      "    raise ValueError(\"No instance of common facet found, dataset may be too small\")\u001b[0m\n",
      "\u001b[34mValueError: No instance of common facet found, dataset may be too small\u001b[0m\n",
      "\u001b[34mWARNING:smclarify.bias.metrics.common:Data type of the elements in `positive_label_values` and in `label` must match. Converted positive_label_values from [0.2] to [0]\u001b[0m\n",
      "\u001b[34mERROR:smclarify.bias.report:LP metrics failed\u001b[0m\n",
      "\u001b[34mTraceback (most recent call last):\n",
      "  File \"/usr/local/lib/python3.9/site-packages/smclarify/bias/report.py\", line 323, in _categorical_metric_call_wrapper\n",
      "    metric_value = smclarify.bias.metrics.call_metric(\n",
      "  File \"/usr/local/lib/python3.9/site-packages/smclarify/bias/metrics/__init__.py\", line 27, in call_metric\n",
      "    return metric(**{key: kwargs[key] for key in inspect.signature(metric).parameters.keys()})\n",
      "  File \"/usr/local/lib/python3.9/site-packages/smclarify/bias/metrics/pretraining.py\", line 132, in LP\n",
      "    return LP_norm(label, sensitive_facet_index, 2)\n",
      "  File \"/usr/local/lib/python3.9/site-packages/smclarify/bias/metrics/pretraining.py\", line 141, in LP_norm\n",
      "    raise ValueError(\"No instance of common facet found, dataset may be too small\")\u001b[0m\n",
      "\u001b[34mValueError: No instance of common facet found, dataset may be too small\u001b[0m\n",
      "\u001b[34mWARNING:smclarify.bias.metrics.common:Data type of the elements in `positive_label_values` and in `label` must match. Converted positive_label_values from [0.2] to [0]\u001b[0m\n",
      "\u001b[34mERROR:smclarify.bias.report:TVD metrics failed\u001b[0m\n",
      "\u001b[34mTraceback (most recent call last):\n",
      "  File \"/usr/local/lib/python3.9/site-packages/smclarify/bias/report.py\", line 323, in _categorical_metric_call_wrapper\n",
      "    metric_value = smclarify.bias.metrics.call_metric(\n",
      "  File \"/usr/local/lib/python3.9/site-packages/smclarify/bias/metrics/__init__.py\", line 27, in call_metric\n",
      "    return metric(**{key: kwargs[key] for key in inspect.signature(metric).parameters.keys()})\n",
      "  File \"/usr/local/lib/python3.9/site-packages/smclarify/bias/metrics/pretraining.py\", line 158, in TVD\n",
      "    Lp_res = LP_norm(label, sensitive_facet_index, 1)\n",
      "  File \"/usr/local/lib/python3.9/site-packages/smclarify/bias/metrics/pretraining.py\", line 141, in LP_norm\n",
      "    raise ValueError(\"No instance of common facet found, dataset may be too small\")\u001b[0m\n",
      "\u001b[34mValueError: No instance of common facet found, dataset may be too small\u001b[0m\n",
      "\u001b[34mINFO:sagemaker-clarify-processing:======================================\u001b[0m\n",
      "\u001b[34mINFO:sagemaker-clarify-processing:Calculating bias statistics for report\u001b[0m\n",
      "\u001b[34mINFO:sagemaker-clarify-processing:======================================\u001b[0m\n",
      "\u001b[34mINFO:smclarify.bias.metrics.common:Column price with data uniqueness fraction 0.3394951674955428 is classifed as a CONTINUOUS column\u001b[0m\n",
      "\u001b[34mINFO:smclarify.bias.metrics.common:Column year with data uniqueness fraction 0.002158205874073379 is classifed as a CATEGORICAL column\u001b[0m\n",
      "\u001b[34m/usr/local/lib/python3.9/site-packages/smclarify/bias/report.py:591: FutureWarning: In a future version of pandas all arguments of DataFrame.drop except for the argument 'labels' will be keyword-only.\n",
      "  df = df.drop(facet_column.name, 1)\u001b[0m\n",
      "\u001b[34mINFO:smclarify.bias.metrics.common:Column price with data uniqueness fraction 0.3394951674955428 is classifed as a CONTINUOUS column\u001b[0m\n",
      "\u001b[34mINFO:smclarify.bias.metrics.common:Column None with data uniqueness fraction 0.8995026742985831 is classifed as a CONTINUOUS column\u001b[0m\n",
      "\u001b[34m/usr/local/lib/python3.9/site-packages/smclarify/bias/report.py:210: FutureWarning: The series.append method is deprecated and will be removed from pandas in a future version. Use pandas.concat instead.\n",
      "  data_interval_indices = _interval_index(label_data.append(predicted_label_data), positive_label_values)\u001b[0m\n",
      "\u001b[34mWARNING:smclarify.bias.metrics.common:Data type of the elements in `positive_label_values` and in `label` must match. Converted positive_label_values from [0.2] to [0]\u001b[0m\n",
      "\u001b[34mWARNING:smclarify.bias.metrics.common:Data type of the elements in `positive_label_values` and in `label` must match. Converted positive_label_values from [0.2] to [0]\u001b[0m\n",
      "\u001b[34mWARNING:smclarify.bias.metrics.common:Data type of the elements in `positive_label_values` and in `label` must match. Converted positive_label_values from [0.2] to [0]\u001b[0m\n",
      "\u001b[34mINFO:smclarify.bias.metrics.common:Column price with data uniqueness fraction 0.3394951674955428 is classifed as a CONTINUOUS column\u001b[0m\n",
      "\u001b[34mINFO:smclarify.bias.metrics.common:Column None with data uniqueness fraction 0.8995026742985831 is classifed as a CONTINUOUS column\u001b[0m\n",
      "\u001b[34m/usr/local/lib/python3.9/site-packages/smclarify/bias/report.py:210: FutureWarning: The series.append method is deprecated and will be removed from pandas in a future version. Use pandas.concat instead.\n",
      "  data_interval_indices = _interval_index(label_data.append(predicted_label_data), positive_label_values)\u001b[0m\n",
      "\u001b[34mINFO:analyzer.utils.spark_util:Converting Pandas DataFrame to SparkDataFrame for computing report metadata\u001b[0m\n",
      "\u001b[34mSetting default log level to \"WARN\".\u001b[0m\n",
      "\u001b[34mTo adjust logging level use sc.setLogLevel(newLevel). For SparkR, use setLogLevel(newLevel).\u001b[0m\n",
      "\u001b[34m24/06/23 06:06:16 WARN NativeCodeLoader: Unable to load native-hadoop library for your platform... using builtin-java classes where applicable\u001b[0m\n",
      "\u001b[34m24/06/23 06:06:22 WARN package: Truncated the string representation of a plan since it was too large. This behavior can be adjusted by setting 'spark.sql.debug.maxToStringFields'.\u001b[0m\n",
      "\u001b[34m#015[Stage 0:>                                                          (0 + 4) / 4]#015#015                                                                                #015#015[Stage 3:>                                                          (0 + 4) / 4]#015#015                                                                                #015INFO:sagemaker-clarify-processing:Calculated global analysis without predictor\u001b[0m\n",
      "\u001b[34mINFO:analyzer.predictor.predictor:Stop using endpoint: xgb-Final-project-2024-06-23-0558\u001b[0m\n",
      "\u001b[34mINFO:sagemaker-clarify-processing:Collected analyses: \u001b[0m\n",
      "\u001b[34m{'version': '1.0', 'post_training_bias_metrics': {'label': 'price', 'facets': {'year': [{'value_or_threshold': '0.2', 'metrics': [{'name': 'AD', 'description': 'Accuracy Difference (AD)', 'value': None, 'error': 'Facet set is empty'}, {'name': 'CDDPL', 'description': 'Conditional Demographic Disparity in Predicted Labels (CDDPL)', 'value': None, 'error': 'Group variable is empty or not provided'}, {'name': 'DAR', 'description': 'Difference in Acceptance Rates (DAR)', 'value': None, 'error': 'DLR: Facet set is empty'}, {'name': 'DCA', 'description': 'Difference in Conditional Acceptance (DCA)', 'value': None, 'error': 'DCO: Facet set is empty'}, {'name': 'DCR', 'description': 'Difference in Conditional Rejection (DCR)', 'value': None, 'error': 'DCO: Facet set is empty'}, {'name': 'DI', 'description': 'Disparate Impact (DI)', 'value': None, 'error': 'Facet set is empty'}, {'name': 'DPPL', 'description': 'Difference in Positive Proportions in Predicted Labels (DPPL)', 'value': None, 'error': 'Facet set is empty.'}, {'name': 'DRR', 'description': 'Difference in Rejection Rates (DRR)', 'value': None, 'error': 'DLR: Facet set is empty'}, {'name': 'FT', 'description': 'Flip Test (FT)', 'value': None, 'error': 'Facet set is empty'}, {'name': 'GE', 'description': 'Generalized Entropy (GE)', 'value': 0.0}, {'name': 'RD', 'description': 'Recall Difference (RD)', 'value': None, 'error': 'DLA: Facet set is empty'}, {'name': 'SD', 'description': 'Specificity Difference (SD)', 'value': None, 'error': 'DLA: Facet set is empty'}, {'name': 'TE', 'description': 'Treatment Equality (TE)', 'value': None, 'error': 'Facet set is empty'}]}]}, 'label_value_or_threshold': '(1, 133900]'}, 'pre_training_bias_metrics': {'label': 'price', 'facets': {'year': [{'value_or_threshold': '0.2', 'metrics': [{'name': 'CDDL', 'description': 'Conditional Demographic Disparity in Labels (CDDL)', 'value': None, 'error': 'Group variable is empty or not provided'}, {'name': 'CI', 'description': 'Class Imbalance (CI)', 'value': None, 'error': 'CI: facet set is empty. Check that x[facet] has non-zero length.'}, {'name': 'DPL', 'description': 'Difference in Positive Proportions in Labels (DPL)', 'value': None, 'error': 'Facet set is empty.'}, {'name': 'JS', 'description': 'Jensen-Shannon Divergence (JS)', 'value': None, 'error': 'No instance of common facet found, dataset may be too small'}, {'name': 'KL', 'description': 'Kullback-Liebler Divergence (KL)', 'value': None, 'error': 'No instance of common facet found, dataset may be too small'}, {'name': 'KS', 'description': 'Kolmogorov-Smirnov Distance (KS)', 'value': None, 'error': 'No instance of common facet found, dataset may be too small'}, {'name': 'LP', 'description': 'L-p Norm (LP)', 'value': None, 'error': 'No instance of common facet found, dataset may be too small'}, {'name': 'TVD', 'description': 'Total Variation Distance (TVD)', 'value': None, 'error': 'No instance of common facet found, dataset may be too small'}]}]}, 'label_value_or_threshold': '(1, 133900]'}}\u001b[0m\n",
      "\u001b[34mINFO:analyzer.utils.util:['jupyter', 'nbconvert', '--to', 'html', '--output', '/opt/ml/processing/output/report.html', '/opt/ml/processing/output/report.ipynb', '--template', 'sagemaker-xai']\u001b[0m\n",
      "\u001b[34m[NbConvertApp] Converting notebook /opt/ml/processing/output/report.ipynb to html\u001b[0m\n",
      "\u001b[34m[NbConvertApp] Writing 744562 bytes to /opt/ml/processing/output/report.html\u001b[0m\n",
      "\u001b[34mINFO:analyzer.utils.util:['wkhtmltopdf', '-q', '--enable-local-file-access', '/opt/ml/processing/output/report.html', '/opt/ml/processing/output/report.pdf']\u001b[0m\n",
      "\u001b[34mINFO:analyzer.utils.system_util:exit_message: Completed: SageMaker XAI Analyzer ran successfully\u001b[0m\n",
      "\u001b[34mINFO:py4j.clientserver:Closing down clientserver connection\u001b[0m\n",
      "\n"
     ]
    }
   ],
   "source": [
    "baseline_job_bias = model_bias_monitor.suggest_baseline(\n",
    "    model_config=model_config,\n",
    "    data_config=model_bias_data_config,\n",
    "    bias_config=model_bias_config,\n",
    ")\n",
    "baseline_job_bias.wait(logs=True)"
   ]
  },
  {
   "cell_type": "markdown",
   "id": "dcb24596-0603-4176-8e2f-531396036a02",
   "metadata": {},
   "source": [
    "### Generate Fake Ground Truth"
   ]
  },
  {
   "cell_type": "markdown",
   "id": "e75245ef-ab90-4963-b68e-757fa9b2ccd6",
   "metadata": {},
   "source": [
    "The method to do this will be using a normal distubation using the mean and standard deviation of the price. "
   ]
  },
  {
   "cell_type": "code",
   "execution_count": 17,
   "id": "8705f220-c2b5-4552-8381-1189aaef50ab",
   "metadata": {
    "tags": []
   },
   "outputs": [],
   "source": [
    "ground_truth_upload_path = \"s3://\" + bucket + \"/\" + prefix + \"groundtruth\""
   ]
  },
  {
   "cell_type": "code",
   "execution_count": 18,
   "id": "1d96472e-1e44-4fc3-b8ba-a9c3bbb8d6ea",
   "metadata": {
    "tags": []
   },
   "outputs": [
    {
     "name": "stderr",
     "output_type": "stream",
     "text": [
      "/home/ec2-user/anaconda3/envs/python3/lib/python3.10/site-packages/fsspec/registry.py:275: UserWarning: Your installed version of s3fs is very old and known to cause\n",
      "severe performance issues, see also https://github.com/dask/dask/issues/10276\n",
      "\n",
      "To fix, you should specify a lower version bound on s3fs, or\n",
      "update the current installation.\n",
      "\n",
      "  warnings.warn(s3_msg)\n",
      "INFO:botocore.credentials:Found credentials from IAM Role: BaseNotebookInstanceEc2InstanceRole\n"
     ]
    }
   ],
   "source": [
    "import numpy as np\n",
    "df = pd.read_csv(validation_file)\n",
    "price = df.price\n",
    "price_mean = price.mean()\n",
    "price_std = price.std()\n",
    "def ground_truth_with_id(inference_id):\n",
    "    GroundTruthDistrubation = np.random.normal(price_mean, price_std, 1)[0]\n",
    "    return {\n",
    "        \"groundTruthData\": {\n",
    "            \"data\": GroundTruthDistrubation,\n",
    "            \"encoding\": \"CSV\",\n",
    "        },\n",
    "        \"eventMetadata\": {\n",
    "            \"eventId\": str(inference_id),\n",
    "        },\n",
    "        \"eventVersion\": \"0\",\n",
    "    }\n",
    "\n",
    "def upload_ground_truth(records, upload_time):\n",
    "    fake_records = [json.dumps(r) for r in records]\n",
    "    data_to_upload = \"\\n\".join(fake_records)\n",
    "    target_s3_uri = f\"{ground_truth_upload_path}/{upload_time:%Y/%m/%d/%H/%M%S}.jsonl\"\n",
    "    print(f\"Uploading {len(fake_records)} records to\", target_s3_uri)\n",
    "    S3Uploader.upload_string_as_file_body(data_to_upload, target_s3_uri)\n"
   ]
  },
  {
   "cell_type": "code",
   "execution_count": 19,
   "id": "30ecdde9-261c-49b8-ba44-e4d98ffc2ccc",
   "metadata": {
    "tags": []
   },
   "outputs": [
    {
     "name": "stderr",
     "output_type": "stream",
     "text": [
      "INFO:botocore.credentials:Found credentials from IAM Role: BaseNotebookInstanceEc2InstanceRole\n"
     ]
    },
    {
     "name": "stdout",
     "output_type": "stream",
     "text": [
      "Uploading 10657 records to s3://sagemaker-us-east-1-122442915072/xgboost-finalgroundtruth/2024/06/23/06/0841.jsonl\n"
     ]
    },
    {
     "name": "stderr",
     "output_type": "stream",
     "text": [
      "INFO:botocore.credentials:Found credentials from IAM Role: BaseNotebookInstanceEc2InstanceRole\n"
     ]
    },
    {
     "name": "stdout",
     "output_type": "stream",
     "text": [
      "Uploading 10657 records to s3://sagemaker-us-east-1-122442915072/xgboost-finalgroundtruth/2024/06/23/07/0842.jsonl\n"
     ]
    },
    {
     "name": "stderr",
     "output_type": "stream",
     "text": [
      "INFO:botocore.credentials:Found credentials from IAM Role: BaseNotebookInstanceEc2InstanceRole\n"
     ]
    },
    {
     "name": "stdout",
     "output_type": "stream",
     "text": [
      "Uploading 10657 records to s3://sagemaker-us-east-1-122442915072/xgboost-finalgroundtruth/2024/06/23/09/0843.jsonl\n"
     ]
    }
   ],
   "source": [
    "NUM_GROUND_TRUTH_RECORDS = len(df)  \n",
    "\n",
    "def generate_fake_ground_truth_forever():\n",
    "    j = 0\n",
    "    while 1:\n",
    "        fake_records = [ground_truth_with_id(i) for i in range(NUM_GROUND_TRUTH_RECORDS)]\n",
    "        upload_ground_truth(fake_records, datetime.utcnow())\n",
    "        j = (j + 1) % 5\n",
    "        sleep(60 * 60)  \n",
    "\n",
    "\n",
    "\n",
    "gt_thread = Thread(target=generate_fake_ground_truth_forever)\n",
    "gt_thread.start()"
   ]
  },
  {
   "cell_type": "code",
   "execution_count": 20,
   "id": "2e46b35a-6a7c-498e-ac5e-c936d7770db1",
   "metadata": {
    "tags": []
   },
   "outputs": [],
   "source": [
    "from sagemaker.model_monitor import (\n",
    "    BiasAnalysisConfig,\n",
    "    CronExpressionGenerator,\n",
    "    DataCaptureConfig,\n",
    "    EndpointInput,\n",
    "    ExplainabilityAnalysisConfig,\n",
    "    ModelBiasMonitor,\n",
    "    ModelExplainabilityMonitor,\n",
    ")\n",
    "\n",
    "model_bias_analysis_config = BiasAnalysisConfig(\n",
    "    model_bias_config,\n",
    "    label=\"price\",\n",
    ")"
   ]
  },
  {
   "cell_type": "code",
   "execution_count": 21,
   "id": "30bcec45-58f1-426e-ab90-471b918be87e",
   "metadata": {
    "tags": []
   },
   "outputs": [
    {
     "name": "stderr",
     "output_type": "stream",
     "text": [
      "INFO:sagemaker.model_monitor.clarify_model_monitoring:Uploading analysis config to {s3_uri}.\n",
      "INFO:sagemaker.model_monitor.model_monitoring:Creating Monitoring Schedule with name: monitoring-schedule-2024-06-23-06-08-41-063\n"
     ]
    }
   ],
   "source": [
    "model_bias_monitor.create_monitoring_schedule(\n",
    "    analysis_config=model_bias_analysis_config,\n",
    "    output_s3_uri=\"s3://\" + bucket + \"/\" + prefix + \"monitor\",\n",
    "    endpoint_input=EndpointInput(\n",
    "        endpoint_name=endpoint_name,\n",
    "        destination=\"/opt/ml/processing/input/endpoint\",\n",
    "    ),\n",
    "    ground_truth_input=ground_truth_upload_path,\n",
    "    schedule_cron_expression=CronExpressionGenerator.hourly(),\n",
    "    enable_cloudwatch_metrics=True,\n",
    ")"
   ]
  },
  {
   "cell_type": "code",
   "execution_count": 22,
   "id": "a8a5b68b-6391-4738-ac90-4b005ad22a6e",
   "metadata": {
    "tags": []
   },
   "outputs": [
    {
     "data": {
      "text/plain": [
       "{'MonitoringScheduleArn': 'arn:aws:sagemaker:us-east-1:122442915072:monitoring-schedule/monitoring-schedule-2024-06-23-06-08-41-063',\n",
       " 'MonitoringScheduleName': 'monitoring-schedule-2024-06-23-06-08-41-063',\n",
       " 'MonitoringScheduleStatus': 'Pending',\n",
       " 'MonitoringType': 'ModelBias',\n",
       " 'CreationTime': datetime.datetime(2024, 6, 23, 6, 8, 41, 763000, tzinfo=tzlocal()),\n",
       " 'LastModifiedTime': datetime.datetime(2024, 6, 23, 6, 8, 41, 784000, tzinfo=tzlocal()),\n",
       " 'MonitoringScheduleConfig': {'ScheduleConfig': {'ScheduleExpression': 'cron(0 * ? * * *)'},\n",
       "  'MonitoringJobDefinitionName': 'model-bias-job-definition-2024-06-23-06-08-41-063',\n",
       "  'MonitoringType': 'ModelBias'},\n",
       " 'EndpointName': 'xgb-Final-project-2024-06-23-0558',\n",
       " 'ResponseMetadata': {'RequestId': '046852d7-9a67-418f-94f5-9a9eb0cc3b38',\n",
       "  'HTTPStatusCode': 200,\n",
       "  'HTTPHeaders': {'x-amzn-requestid': '046852d7-9a67-418f-94f5-9a9eb0cc3b38',\n",
       "   'content-type': 'application/x-amz-json-1.1',\n",
       "   'content-length': '588',\n",
       "   'date': 'Sun, 23 Jun 2024 06:08:41 GMT'},\n",
       "  'RetryAttempts': 0}}"
      ]
     },
     "execution_count": 22,
     "metadata": {},
     "output_type": "execute_result"
    }
   ],
   "source": [
    "model_bias_monitor.describe_schedule()"
   ]
  },
  {
   "cell_type": "code",
   "execution_count": null,
   "id": "1bf243b3-ad73-45cf-92fb-47042ea53b9d",
   "metadata": {},
   "outputs": [],
   "source": [
    "executions = model_bias_monitor.list_executions()\n",
    "while True:\n",
    "    execution = model_bias_monitor.describe_schedule().get(\n",
    "        \"LastMonitoringExecutionSummary\"\n",
    "    )\n",
    "    if execution:\n",
    "        break\n",
    "    print(\".\", end=\"\", flush=True)\n",
    "    sleep(60)"
   ]
  },
  {
   "cell_type": "code",
   "execution_count": null,
   "id": "fa84456b-d8ab-4e53-8952-f912929d3d99",
   "metadata": {},
   "outputs": [],
   "source": [
    "latest_execution = model_bias_monitor.list_executions()[-1]\n",
    "report_uri = latest_execution.describe()[\"ProcessingOutputConfig\"][\"Outputs\"][0][\"S3Output\"][\"S3Uri\"]\n",
    "report_uri"
   ]
  },
  {
   "cell_type": "markdown",
   "id": "1c7fa693-5471-4725-960e-d8349ec071ee",
   "metadata": {},
   "source": [
    "### CI/CD code "
   ]
  },
  {
   "cell_type": "code",
   "execution_count": null,
   "id": "cb9dc978-5fcd-4bfe-a2fa-de440fc5c058",
   "metadata": {},
   "outputs": [],
   "source": [
    "## To Create CodeCommit Repository"
   ]
  },
  {
   "cell_type": "code",
   "execution_count": null,
   "id": "bcbd2efd-a91c-43df-9844-8e8c859b8d62",
   "metadata": {},
   "outputs": [],
   "source": [
    "!aws codecommit create-repository --repository-name CarPricePrediction\n"
   ]
  },
  {
   "cell_type": "code",
   "execution_count": null,
   "id": "13142aba-4fba-4911-9b92-185b7d1a6ac2",
   "metadata": {},
   "outputs": [],
   "source": [
    "## To Create CodeBuild Project"
   ]
  },
  {
   "cell_type": "code",
   "execution_count": null,
   "id": "b5d999be-2c3e-4ad5-ac79-fda03ac06da3",
   "metadata": {},
   "outputs": [],
   "source": [
    "!aws codebuild create-project --name CarPricePredictionBuild \\\n",
    "  --source type=CODECOMMIT,location=CarPricePrediction \\\n",
    "  --artifacts type=NO_ARTIFACTS \\\n",
    "  --environment type=LINUX_CONTAINER,computeType=BUILD_GENERAL1_SMALL,image=aws/codebuild/standard:4.0 \\\n",
    "  --service-role arn:aws:iam::364723530364:role/CodeBuildServiceRole\n"
   ]
  },
  {
   "cell_type": "code",
   "execution_count": null,
   "id": "5a062061-7ecd-4907-b435-4804135850c1",
   "metadata": {},
   "outputs": [],
   "source": [
    "## To Create CodePipeline"
   ]
  },
  {
   "cell_type": "code",
   "execution_count": null,
   "id": "1a6fbf29-4903-4dec-8f0a-fc7d959700ad",
   "metadata": {},
   "outputs": [],
   "source": [
    "!aws codepipeline create-pipeline --pipeline file://pipeline.json\n"
   ]
  },
  {
   "cell_type": "code",
   "execution_count": null,
   "id": "95b333d6-56f8-47a1-8a11-90d761929144",
   "metadata": {},
   "outputs": [],
   "source": [
    "## Create Lambda Function for Deployment:"
   ]
  },
  {
   "cell_type": "code",
   "execution_count": null,
   "id": "f70f90f6-2af3-42b5-bb3d-5c3bff2a93aa",
   "metadata": {},
   "outputs": [],
   "source": [
    "import boto3\n",
    "\n",
    "def lambda_handler(event, context):\n",
    "    client = boto3.client('sagemaker')\n",
    "    endpoint_name = 'xgb-Final-project'\n",
    "    \n",
    "    response = client.create_endpoint(\n",
    "        EndpointName=endpoint_name,\n",
    "        EndpointConfigName='CarPricePredictionEndpointConfig'\n",
    "    )\n",
    "    \n",
    "    return response\n"
   ]
  },
  {
   "cell_type": "code",
   "execution_count": null,
   "id": "c0253f9c-1a1e-4917-a577-7fb81fcc299f",
   "metadata": {},
   "outputs": [],
   "source": [
    "!aws cloudformation deploy --codepipeline.yml --stack-name MySageMakerCICDPipeline --capabilities CAPABILITY_IAM\n"
   ]
  },
  {
   "cell_type": "code",
   "execution_count": null,
   "id": "45de5531-9711-44fe-96af-e245b09c46e7",
   "metadata": {},
   "outputs": [],
   "source": []
  }
 ],
 "metadata": {
  "availableInstances": [
   {
    "_defaultOrder": 0,
    "_isFastLaunch": true,
    "category": "General purpose",
    "gpuNum": 0,
    "hideHardwareSpecs": false,
    "memoryGiB": 4,
    "name": "ml.t3.medium",
    "vcpuNum": 2
   },
   {
    "_defaultOrder": 1,
    "_isFastLaunch": false,
    "category": "General purpose",
    "gpuNum": 0,
    "hideHardwareSpecs": false,
    "memoryGiB": 8,
    "name": "ml.t3.large",
    "vcpuNum": 2
   },
   {
    "_defaultOrder": 2,
    "_isFastLaunch": false,
    "category": "General purpose",
    "gpuNum": 0,
    "hideHardwareSpecs": false,
    "memoryGiB": 16,
    "name": "ml.t3.xlarge",
    "vcpuNum": 4
   },
   {
    "_defaultOrder": 3,
    "_isFastLaunch": false,
    "category": "General purpose",
    "gpuNum": 0,
    "hideHardwareSpecs": false,
    "memoryGiB": 32,
    "name": "ml.t3.2xlarge",
    "vcpuNum": 8
   },
   {
    "_defaultOrder": 4,
    "_isFastLaunch": true,
    "category": "General purpose",
    "gpuNum": 0,
    "hideHardwareSpecs": false,
    "memoryGiB": 8,
    "name": "ml.m5.large",
    "vcpuNum": 2
   },
   {
    "_defaultOrder": 5,
    "_isFastLaunch": false,
    "category": "General purpose",
    "gpuNum": 0,
    "hideHardwareSpecs": false,
    "memoryGiB": 16,
    "name": "ml.m5.xlarge",
    "vcpuNum": 4
   },
   {
    "_defaultOrder": 6,
    "_isFastLaunch": false,
    "category": "General purpose",
    "gpuNum": 0,
    "hideHardwareSpecs": false,
    "memoryGiB": 32,
    "name": "ml.m5.2xlarge",
    "vcpuNum": 8
   },
   {
    "_defaultOrder": 7,
    "_isFastLaunch": false,
    "category": "General purpose",
    "gpuNum": 0,
    "hideHardwareSpecs": false,
    "memoryGiB": 64,
    "name": "ml.m5.4xlarge",
    "vcpuNum": 16
   },
   {
    "_defaultOrder": 8,
    "_isFastLaunch": false,
    "category": "General purpose",
    "gpuNum": 0,
    "hideHardwareSpecs": false,
    "memoryGiB": 128,
    "name": "ml.m5.8xlarge",
    "vcpuNum": 32
   },
   {
    "_defaultOrder": 9,
    "_isFastLaunch": false,
    "category": "General purpose",
    "gpuNum": 0,
    "hideHardwareSpecs": false,
    "memoryGiB": 192,
    "name": "ml.m5.12xlarge",
    "vcpuNum": 48
   },
   {
    "_defaultOrder": 10,
    "_isFastLaunch": false,
    "category": "General purpose",
    "gpuNum": 0,
    "hideHardwareSpecs": false,
    "memoryGiB": 256,
    "name": "ml.m5.16xlarge",
    "vcpuNum": 64
   },
   {
    "_defaultOrder": 11,
    "_isFastLaunch": false,
    "category": "General purpose",
    "gpuNum": 0,
    "hideHardwareSpecs": false,
    "memoryGiB": 384,
    "name": "ml.m5.24xlarge",
    "vcpuNum": 96
   },
   {
    "_defaultOrder": 12,
    "_isFastLaunch": false,
    "category": "General purpose",
    "gpuNum": 0,
    "hideHardwareSpecs": false,
    "memoryGiB": 8,
    "name": "ml.m5d.large",
    "vcpuNum": 2
   },
   {
    "_defaultOrder": 13,
    "_isFastLaunch": false,
    "category": "General purpose",
    "gpuNum": 0,
    "hideHardwareSpecs": false,
    "memoryGiB": 16,
    "name": "ml.m5d.xlarge",
    "vcpuNum": 4
   },
   {
    "_defaultOrder": 14,
    "_isFastLaunch": false,
    "category": "General purpose",
    "gpuNum": 0,
    "hideHardwareSpecs": false,
    "memoryGiB": 32,
    "name": "ml.m5d.2xlarge",
    "vcpuNum": 8
   },
   {
    "_defaultOrder": 15,
    "_isFastLaunch": false,
    "category": "General purpose",
    "gpuNum": 0,
    "hideHardwareSpecs": false,
    "memoryGiB": 64,
    "name": "ml.m5d.4xlarge",
    "vcpuNum": 16
   },
   {
    "_defaultOrder": 16,
    "_isFastLaunch": false,
    "category": "General purpose",
    "gpuNum": 0,
    "hideHardwareSpecs": false,
    "memoryGiB": 128,
    "name": "ml.m5d.8xlarge",
    "vcpuNum": 32
   },
   {
    "_defaultOrder": 17,
    "_isFastLaunch": false,
    "category": "General purpose",
    "gpuNum": 0,
    "hideHardwareSpecs": false,
    "memoryGiB": 192,
    "name": "ml.m5d.12xlarge",
    "vcpuNum": 48
   },
   {
    "_defaultOrder": 18,
    "_isFastLaunch": false,
    "category": "General purpose",
    "gpuNum": 0,
    "hideHardwareSpecs": false,
    "memoryGiB": 256,
    "name": "ml.m5d.16xlarge",
    "vcpuNum": 64
   },
   {
    "_defaultOrder": 19,
    "_isFastLaunch": false,
    "category": "General purpose",
    "gpuNum": 0,
    "hideHardwareSpecs": false,
    "memoryGiB": 384,
    "name": "ml.m5d.24xlarge",
    "vcpuNum": 96
   },
   {
    "_defaultOrder": 20,
    "_isFastLaunch": false,
    "category": "General purpose",
    "gpuNum": 0,
    "hideHardwareSpecs": true,
    "memoryGiB": 0,
    "name": "ml.geospatial.interactive",
    "supportedImageNames": [
     "sagemaker-geospatial-v1-0"
    ],
    "vcpuNum": 0
   },
   {
    "_defaultOrder": 21,
    "_isFastLaunch": true,
    "category": "Compute optimized",
    "gpuNum": 0,
    "hideHardwareSpecs": false,
    "memoryGiB": 4,
    "name": "ml.c5.large",
    "vcpuNum": 2
   },
   {
    "_defaultOrder": 22,
    "_isFastLaunch": false,
    "category": "Compute optimized",
    "gpuNum": 0,
    "hideHardwareSpecs": false,
    "memoryGiB": 8,
    "name": "ml.c5.xlarge",
    "vcpuNum": 4
   },
   {
    "_defaultOrder": 23,
    "_isFastLaunch": false,
    "category": "Compute optimized",
    "gpuNum": 0,
    "hideHardwareSpecs": false,
    "memoryGiB": 16,
    "name": "ml.c5.2xlarge",
    "vcpuNum": 8
   },
   {
    "_defaultOrder": 24,
    "_isFastLaunch": false,
    "category": "Compute optimized",
    "gpuNum": 0,
    "hideHardwareSpecs": false,
    "memoryGiB": 32,
    "name": "ml.c5.4xlarge",
    "vcpuNum": 16
   },
   {
    "_defaultOrder": 25,
    "_isFastLaunch": false,
    "category": "Compute optimized",
    "gpuNum": 0,
    "hideHardwareSpecs": false,
    "memoryGiB": 72,
    "name": "ml.c5.9xlarge",
    "vcpuNum": 36
   },
   {
    "_defaultOrder": 26,
    "_isFastLaunch": false,
    "category": "Compute optimized",
    "gpuNum": 0,
    "hideHardwareSpecs": false,
    "memoryGiB": 96,
    "name": "ml.c5.12xlarge",
    "vcpuNum": 48
   },
   {
    "_defaultOrder": 27,
    "_isFastLaunch": false,
    "category": "Compute optimized",
    "gpuNum": 0,
    "hideHardwareSpecs": false,
    "memoryGiB": 144,
    "name": "ml.c5.18xlarge",
    "vcpuNum": 72
   },
   {
    "_defaultOrder": 28,
    "_isFastLaunch": false,
    "category": "Compute optimized",
    "gpuNum": 0,
    "hideHardwareSpecs": false,
    "memoryGiB": 192,
    "name": "ml.c5.24xlarge",
    "vcpuNum": 96
   },
   {
    "_defaultOrder": 29,
    "_isFastLaunch": true,
    "category": "Accelerated computing",
    "gpuNum": 1,
    "hideHardwareSpecs": false,
    "memoryGiB": 16,
    "name": "ml.g4dn.xlarge",
    "vcpuNum": 4
   },
   {
    "_defaultOrder": 30,
    "_isFastLaunch": false,
    "category": "Accelerated computing",
    "gpuNum": 1,
    "hideHardwareSpecs": false,
    "memoryGiB": 32,
    "name": "ml.g4dn.2xlarge",
    "vcpuNum": 8
   },
   {
    "_defaultOrder": 31,
    "_isFastLaunch": false,
    "category": "Accelerated computing",
    "gpuNum": 1,
    "hideHardwareSpecs": false,
    "memoryGiB": 64,
    "name": "ml.g4dn.4xlarge",
    "vcpuNum": 16
   },
   {
    "_defaultOrder": 32,
    "_isFastLaunch": false,
    "category": "Accelerated computing",
    "gpuNum": 1,
    "hideHardwareSpecs": false,
    "memoryGiB": 128,
    "name": "ml.g4dn.8xlarge",
    "vcpuNum": 32
   },
   {
    "_defaultOrder": 33,
    "_isFastLaunch": false,
    "category": "Accelerated computing",
    "gpuNum": 4,
    "hideHardwareSpecs": false,
    "memoryGiB": 192,
    "name": "ml.g4dn.12xlarge",
    "vcpuNum": 48
   },
   {
    "_defaultOrder": 34,
    "_isFastLaunch": false,
    "category": "Accelerated computing",
    "gpuNum": 1,
    "hideHardwareSpecs": false,
    "memoryGiB": 256,
    "name": "ml.g4dn.16xlarge",
    "vcpuNum": 64
   },
   {
    "_defaultOrder": 35,
    "_isFastLaunch": false,
    "category": "Accelerated computing",
    "gpuNum": 1,
    "hideHardwareSpecs": false,
    "memoryGiB": 61,
    "name": "ml.p3.2xlarge",
    "vcpuNum": 8
   },
   {
    "_defaultOrder": 36,
    "_isFastLaunch": false,
    "category": "Accelerated computing",
    "gpuNum": 4,
    "hideHardwareSpecs": false,
    "memoryGiB": 244,
    "name": "ml.p3.8xlarge",
    "vcpuNum": 32
   },
   {
    "_defaultOrder": 37,
    "_isFastLaunch": false,
    "category": "Accelerated computing",
    "gpuNum": 8,
    "hideHardwareSpecs": false,
    "memoryGiB": 488,
    "name": "ml.p3.16xlarge",
    "vcpuNum": 64
   },
   {
    "_defaultOrder": 38,
    "_isFastLaunch": false,
    "category": "Accelerated computing",
    "gpuNum": 8,
    "hideHardwareSpecs": false,
    "memoryGiB": 768,
    "name": "ml.p3dn.24xlarge",
    "vcpuNum": 96
   },
   {
    "_defaultOrder": 39,
    "_isFastLaunch": false,
    "category": "Memory Optimized",
    "gpuNum": 0,
    "hideHardwareSpecs": false,
    "memoryGiB": 16,
    "name": "ml.r5.large",
    "vcpuNum": 2
   },
   {
    "_defaultOrder": 40,
    "_isFastLaunch": false,
    "category": "Memory Optimized",
    "gpuNum": 0,
    "hideHardwareSpecs": false,
    "memoryGiB": 32,
    "name": "ml.r5.xlarge",
    "vcpuNum": 4
   },
   {
    "_defaultOrder": 41,
    "_isFastLaunch": false,
    "category": "Memory Optimized",
    "gpuNum": 0,
    "hideHardwareSpecs": false,
    "memoryGiB": 64,
    "name": "ml.r5.2xlarge",
    "vcpuNum": 8
   },
   {
    "_defaultOrder": 42,
    "_isFastLaunch": false,
    "category": "Memory Optimized",
    "gpuNum": 0,
    "hideHardwareSpecs": false,
    "memoryGiB": 128,
    "name": "ml.r5.4xlarge",
    "vcpuNum": 16
   },
   {
    "_defaultOrder": 43,
    "_isFastLaunch": false,
    "category": "Memory Optimized",
    "gpuNum": 0,
    "hideHardwareSpecs": false,
    "memoryGiB": 256,
    "name": "ml.r5.8xlarge",
    "vcpuNum": 32
   },
   {
    "_defaultOrder": 44,
    "_isFastLaunch": false,
    "category": "Memory Optimized",
    "gpuNum": 0,
    "hideHardwareSpecs": false,
    "memoryGiB": 384,
    "name": "ml.r5.12xlarge",
    "vcpuNum": 48
   },
   {
    "_defaultOrder": 45,
    "_isFastLaunch": false,
    "category": "Memory Optimized",
    "gpuNum": 0,
    "hideHardwareSpecs": false,
    "memoryGiB": 512,
    "name": "ml.r5.16xlarge",
    "vcpuNum": 64
   },
   {
    "_defaultOrder": 46,
    "_isFastLaunch": false,
    "category": "Memory Optimized",
    "gpuNum": 0,
    "hideHardwareSpecs": false,
    "memoryGiB": 768,
    "name": "ml.r5.24xlarge",
    "vcpuNum": 96
   },
   {
    "_defaultOrder": 47,
    "_isFastLaunch": false,
    "category": "Accelerated computing",
    "gpuNum": 1,
    "hideHardwareSpecs": false,
    "memoryGiB": 16,
    "name": "ml.g5.xlarge",
    "vcpuNum": 4
   },
   {
    "_defaultOrder": 48,
    "_isFastLaunch": false,
    "category": "Accelerated computing",
    "gpuNum": 1,
    "hideHardwareSpecs": false,
    "memoryGiB": 32,
    "name": "ml.g5.2xlarge",
    "vcpuNum": 8
   },
   {
    "_defaultOrder": 49,
    "_isFastLaunch": false,
    "category": "Accelerated computing",
    "gpuNum": 1,
    "hideHardwareSpecs": false,
    "memoryGiB": 64,
    "name": "ml.g5.4xlarge",
    "vcpuNum": 16
   },
   {
    "_defaultOrder": 50,
    "_isFastLaunch": false,
    "category": "Accelerated computing",
    "gpuNum": 1,
    "hideHardwareSpecs": false,
    "memoryGiB": 128,
    "name": "ml.g5.8xlarge",
    "vcpuNum": 32
   },
   {
    "_defaultOrder": 51,
    "_isFastLaunch": false,
    "category": "Accelerated computing",
    "gpuNum": 1,
    "hideHardwareSpecs": false,
    "memoryGiB": 256,
    "name": "ml.g5.16xlarge",
    "vcpuNum": 64
   },
   {
    "_defaultOrder": 52,
    "_isFastLaunch": false,
    "category": "Accelerated computing",
    "gpuNum": 4,
    "hideHardwareSpecs": false,
    "memoryGiB": 192,
    "name": "ml.g5.12xlarge",
    "vcpuNum": 48
   },
   {
    "_defaultOrder": 53,
    "_isFastLaunch": false,
    "category": "Accelerated computing",
    "gpuNum": 4,
    "hideHardwareSpecs": false,
    "memoryGiB": 384,
    "name": "ml.g5.24xlarge",
    "vcpuNum": 96
   },
   {
    "_defaultOrder": 54,
    "_isFastLaunch": false,
    "category": "Accelerated computing",
    "gpuNum": 8,
    "hideHardwareSpecs": false,
    "memoryGiB": 768,
    "name": "ml.g5.48xlarge",
    "vcpuNum": 192
   },
   {
    "_defaultOrder": 55,
    "_isFastLaunch": false,
    "category": "Accelerated computing",
    "gpuNum": 8,
    "hideHardwareSpecs": false,
    "memoryGiB": 1152,
    "name": "ml.p4d.24xlarge",
    "vcpuNum": 96
   },
   {
    "_defaultOrder": 56,
    "_isFastLaunch": false,
    "category": "Accelerated computing",
    "gpuNum": 8,
    "hideHardwareSpecs": false,
    "memoryGiB": 1152,
    "name": "ml.p4de.24xlarge",
    "vcpuNum": 96
   },
   {
    "_defaultOrder": 57,
    "_isFastLaunch": false,
    "category": "Accelerated computing",
    "gpuNum": 0,
    "hideHardwareSpecs": false,
    "memoryGiB": 32,
    "name": "ml.trn1.2xlarge",
    "vcpuNum": 8
   },
   {
    "_defaultOrder": 58,
    "_isFastLaunch": false,
    "category": "Accelerated computing",
    "gpuNum": 0,
    "hideHardwareSpecs": false,
    "memoryGiB": 512,
    "name": "ml.trn1.32xlarge",
    "vcpuNum": 128
   },
   {
    "_defaultOrder": 59,
    "_isFastLaunch": false,
    "category": "Accelerated computing",
    "gpuNum": 0,
    "hideHardwareSpecs": false,
    "memoryGiB": 512,
    "name": "ml.trn1n.32xlarge",
    "vcpuNum": 128
   }
  ],
  "kernelspec": {
   "display_name": "conda_python3",
   "language": "python",
   "name": "conda_python3"
  },
  "language_info": {
   "codemirror_mode": {
    "name": "ipython",
    "version": 3
   },
   "file_extension": ".py",
   "mimetype": "text/x-python",
   "name": "python",
   "nbconvert_exporter": "python",
   "pygments_lexer": "ipython3",
   "version": "3.10.14"
  }
 },
 "nbformat": 4,
 "nbformat_minor": 5
}
